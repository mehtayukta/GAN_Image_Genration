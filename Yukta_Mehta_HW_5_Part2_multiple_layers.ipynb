{
 "cells": [
  {
   "cell_type": "markdown",
   "metadata": {
    "id": "Snij36rDD3fC"
   },
   "source": [
    "#LSGAN\n",
    "\n"
   ]
  },
  {
   "cell_type": "markdown",
   "metadata": {
    "id": "osta1El5Endz"
   },
   "source": [
    "#Step1. Load the Fashion MNIST dataset\n",
    "\n",
    "## Load the Data\n",
    "\n",
    "We begin by downloading and importing the data as a PyTorch dataset using the `Fashion MNIST` helper class from `torchvision.datasets`."
   ]
  },
  {
   "cell_type": "code",
   "execution_count": 1,
   "metadata": {
    "colab": {
     "base_uri": "https://localhost:8080/"
    },
    "id": "QFtoA_BXD2xr",
    "outputId": "4814894e-2373-4027-d9e0-817a2e6ee225"
   },
   "outputs": [
    {
     "name": "stdout",
     "output_type": "stream",
     "text": [
      "Downloading http://fashion-mnist.s3-website.eu-central-1.amazonaws.com/train-images-idx3-ubyte.gz\n",
      "Downloading http://fashion-mnist.s3-website.eu-central-1.amazonaws.com/train-images-idx3-ubyte.gz to data/FashionMNIST/raw/train-images-idx3-ubyte.gz\n"
     ]
    },
    {
     "name": "stderr",
     "output_type": "stream",
     "text": [
      "100%|██████████| 26421880/26421880 [00:01<00:00, 18295534.86it/s]\n"
     ]
    },
    {
     "name": "stdout",
     "output_type": "stream",
     "text": [
      "Extracting data/FashionMNIST/raw/train-images-idx3-ubyte.gz to data/FashionMNIST/raw\n",
      "\n",
      "Downloading http://fashion-mnist.s3-website.eu-central-1.amazonaws.com/train-labels-idx1-ubyte.gz\n",
      "Downloading http://fashion-mnist.s3-website.eu-central-1.amazonaws.com/train-labels-idx1-ubyte.gz to data/FashionMNIST/raw/train-labels-idx1-ubyte.gz\n"
     ]
    },
    {
     "name": "stderr",
     "output_type": "stream",
     "text": [
      "100%|██████████| 29515/29515 [00:00<00:00, 367411.46it/s]\n"
     ]
    },
    {
     "name": "stdout",
     "output_type": "stream",
     "text": [
      "Extracting data/FashionMNIST/raw/train-labels-idx1-ubyte.gz to data/FashionMNIST/raw\n",
      "\n",
      "Downloading http://fashion-mnist.s3-website.eu-central-1.amazonaws.com/t10k-images-idx3-ubyte.gz\n",
      "Downloading http://fashion-mnist.s3-website.eu-central-1.amazonaws.com/t10k-images-idx3-ubyte.gz to data/FashionMNIST/raw/t10k-images-idx3-ubyte.gz\n"
     ]
    },
    {
     "name": "stderr",
     "output_type": "stream",
     "text": [
      "100%|██████████| 4422102/4422102 [00:00<00:00, 6204211.81it/s]\n"
     ]
    },
    {
     "name": "stdout",
     "output_type": "stream",
     "text": [
      "Extracting data/FashionMNIST/raw/t10k-images-idx3-ubyte.gz to data/FashionMNIST/raw\n",
      "\n",
      "Downloading http://fashion-mnist.s3-website.eu-central-1.amazonaws.com/t10k-labels-idx1-ubyte.gz\n",
      "Downloading http://fashion-mnist.s3-website.eu-central-1.amazonaws.com/t10k-labels-idx1-ubyte.gz to data/FashionMNIST/raw/t10k-labels-idx1-ubyte.gz\n"
     ]
    },
    {
     "name": "stderr",
     "output_type": "stream",
     "text": [
      "100%|██████████| 5148/5148 [00:00<00:00, 9271050.66it/s]\n"
     ]
    },
    {
     "name": "stdout",
     "output_type": "stream",
     "text": [
      "Extracting data/FashionMNIST/raw/t10k-labels-idx1-ubyte.gz to data/FashionMNIST/raw\n",
      "\n"
     ]
    }
   ],
   "source": [
    "import torch\n",
    "import torchvision\n",
    "from torchvision.transforms import ToTensor, Normalize, Compose\n",
    "from torchvision.datasets import FashionMNIST\n",
    "\n",
    "mnist = FashionMNIST(root='data',\n",
    "              train=True,\n",
    "              download=True,\n",
    "              transform=Compose([ToTensor(), Normalize(mean=(0.5,), std=(0.5,))]))"
   ]
  },
  {
   "cell_type": "markdown",
   "metadata": {
    "id": "HJqgWp23FaD1"
   },
   "source": [
    "Note that we are are transforming the pixel values from the range `[0, 1]` to the range `[-1, 1]`. The reason for doing this will become clear when define the generator network. Let's look at a sample tensor from the data."
   ]
  },
  {
   "cell_type": "code",
   "execution_count": 2,
   "metadata": {
    "colab": {
     "base_uri": "https://localhost:8080/"
    },
    "id": "CXLYhBHrDw4s",
    "outputId": "6482947d-b771-459d-cfe6-1066f1d88155"
   },
   "outputs": [
    {
     "name": "stdout",
     "output_type": "stream",
     "text": [
      "Label:  9\n",
      "tensor([[[-1.0000, -1.0000, -1.0000,  0.5137,  0.7882],\n",
      "         [-0.9765, -1.0000, -0.9059,  0.7176,  0.7255],\n",
      "         [-0.9529, -1.0000, -0.2235,  0.9137,  0.7412],\n",
      "         [-1.0000, -1.0000, -0.5686,  0.8510,  0.7882],\n",
      "         [-1.0000, -1.0000,  0.8588,  0.7725,  0.7020]]])\n"
     ]
    },
    {
     "data": {
      "text/plain": [
       "(tensor(-1.), tensor(1.))"
      ]
     },
     "execution_count": 2,
     "metadata": {},
     "output_type": "execute_result"
    }
   ],
   "source": [
    "img, label = mnist[0]\n",
    "print('Label: ', label)\n",
    "print(img[:,10:15,10:15])\n",
    "torch.min(img), torch.max(img)"
   ]
  },
  {
   "cell_type": "markdown",
   "metadata": {
    "id": "2dDct8g4FhwH"
   },
   "source": [
    "There are total 9 classes\n",
    "\n",
    "As expected, the pixel values range from -1 to 1. Let's define a helper to denormalize and view the images. This function will also be useful for viewing the generated images.\n",
    "\n",
    "(tensor(-1.), tensor(1.))"
   ]
  },
  {
   "cell_type": "code",
   "execution_count": 3,
   "metadata": {
    "id": "lwPWVGn1Fgns"
   },
   "outputs": [],
   "source": [
    "def denorm(x):\n",
    "    out = (x + 1) / 2\n",
    "    return out.clamp(0, 1)"
   ]
  },
  {
   "cell_type": "code",
   "execution_count": 4,
   "metadata": {
    "colab": {
     "base_uri": "https://localhost:8080/",
     "height": 448
    },
    "id": "Ifqg74NlFxIV",
    "outputId": "b0015a8f-19b2-4508-8c46-daedd6f17ca6"
   },
   "outputs": [
    {
     "name": "stdout",
     "output_type": "stream",
     "text": [
      "Label: 9\n"
     ]
    },
    {
     "data": {
      "image/png": "[encoded data removed]",
      "text/plain": [
       "<Figure size 640x480 with 1 Axes>"
      ]
     },
     "metadata": {},
     "output_type": "display_data"
    }
   ],
   "source": [
    "import matplotlib.pyplot as plt\n",
    "%matplotlib inline\n",
    "\n",
    "img_norm = denorm(img)\n",
    "plt.imshow(img_norm[0], cmap='gray')\n",
    "print('Label:', label)"
   ]
  },
  {
   "cell_type": "markdown",
   "metadata": {
    "id": "HVOlQEG1F22l"
   },
   "source": [
    "Finally, let's create a dataloader to load the images in batches."
   ]
  },
  {
   "cell_type": "code",
   "execution_count": 5,
   "metadata": {
    "id": "N8nn7EZwF2Ws"
   },
   "outputs": [],
   "source": [
    "from torch.utils.data import DataLoader\n",
    "\n",
    "batch_size = 100\n",
    "data_loader = DataLoader(mnist, batch_size, shuffle=True)"
   ]
  },
  {
   "cell_type": "code",
   "execution_count": 6,
   "metadata": {
    "colab": {
     "base_uri": "https://localhost:8080/",
     "height": 575
    },
    "id": "pCuY4BpdFzLc",
    "outputId": "02c3f586-d8f1-4c5b-de3e-165bb9ed5575"
   },
   "outputs": [
    {
     "name": "stdout",
     "output_type": "stream",
     "text": [
      "first batch\n",
      "torch.Size([100, 1, 28, 28])\n",
      "tensor([9, 3, 6, 6, 5, 4, 7, 2, 9, 5, 9, 6, 8, 7, 2, 1, 8, 5, 1, 8, 5, 6, 8, 4,\n",
      "        7, 5, 4, 3, 4, 8, 3, 5, 7, 0, 3, 1, 9, 3, 3, 3, 5, 1, 5, 2, 4, 2, 9, 4,\n",
      "        2, 3, 5, 4, 1, 3, 9, 0, 6, 8, 0, 6, 7, 7, 6, 2, 2, 2, 2, 1, 3, 7, 4, 2,\n",
      "        8, 4, 4, 2, 0, 0, 4, 9, 1, 2, 6, 0, 0, 2, 0, 5, 3, 8, 1, 4, 5, 6, 8, 4,\n",
      "        1, 2, 8, 5])\n"
     ]
    },
    {
     "data": {
      "image/png": "[encoded data removed]",
      "text/plain": [
       "<Figure size 640x480 with 1 Axes>"
      ]
     },
     "metadata": {},
     "output_type": "display_data"
    }
   ],
   "source": [
    "for img_batch, label_batch in data_loader:\n",
    "    print('first batch')\n",
    "    print(img_batch.shape)\n",
    "    plt.imshow(img_batch[0][0], cmap='gray')\n",
    "    print(label_batch)\n",
    "    break"
   ]
  },
  {
   "cell_type": "code",
   "execution_count": 7,
   "metadata": {
    "id": "Syr7TMtrGBDg"
   },
   "outputs": [],
   "source": [
    "# Device configuration\n",
    "device = torch.device('cuda' if torch.cuda.is_available() else 'cpu')"
   ]
  },
  {
   "cell_type": "code",
   "execution_count": 8,
   "metadata": {
    "colab": {
     "base_uri": "https://localhost:8080/"
    },
    "id": "FqF_AF0KGEDv",
    "outputId": "1cc1ee07-5e32-40d9-9d1a-ff749c59bcab"
   },
   "outputs": [
    {
     "data": {
      "text/plain": [
       "device(type='cpu')"
      ]
     },
     "execution_count": 8,
     "metadata": {},
     "output_type": "execute_result"
    }
   ],
   "source": [
    "device"
   ]
  },
  {
   "cell_type": "markdown",
   "metadata": {
    "id": "Y52bhXtkGIdB"
   },
   "source": [
    "## Discriminator Network\n",
    "\n",
    "The discriminator takes an image as input, and tries to classify it as \"real\" or \"generated\". In this sense, it's like any other neural network. While we can use a CNN for the discriminator, we'll use a simple feedforward network with 3 linear layers to keep things since. We'll treat each 28x28 image as a vector of size 784."
   ]
  },
  {
   "cell_type": "code",
   "execution_count": 9,
   "metadata": {
    "id": "3gRq_vqcGFht"
   },
   "outputs": [],
   "source": [
    "image_size = 784\n",
    "hidden_size = 256"
   ]
  },
  {
   "cell_type": "code",
   "execution_count": 10,
   "metadata": {
    "id": "ZlNpCyNyGKwJ"
   },
   "outputs": [],
   "source": [
    "import torch.nn as nn\n",
    "\n",
    "D = nn.Sequential(\n",
    "    nn.Linear(image_size, hidden_size),\n",
    "    nn.LeakyReLU(0.2),\n",
    "    nn.Linear(hidden_size, hidden_size),\n",
    "    nn.LeakyReLU(0.2),\n",
    "    nn.Linear(hidden_size, hidden_size),  # Additional layer\n",
    "    nn.LeakyReLU(0.2),  # Activation function\n",
    "    nn.Linear(hidden_size, hidden_size),  # Additional layer\n",
    "    nn.LeakyReLU(0.2),  # Activation function\n",
    "    nn.Linear(hidden_size, 1),\n",
    "    nn.Sigmoid()\n",
    ")"
   ]
  },
  {
   "cell_type": "markdown",
   "metadata": {
    "id": "e2AmqiYQGOtH"
   },
   "source": [
    "We use the Leaky ReLU activation for the discriminator.\n",
    "\n",
    "<img src=\"https://cdn-images-1.medium.com/max/1600/1*ypsvQH7kvtI2BhzR2eT_Sw.png\" width=\"420\">\n",
    "\n",
    "\n",
    ">  Different from the regular ReLU function, Leaky ReLU allows the pass of a small gradient signal for negative values. As a result, it makes the gradients from the discriminator flows stronger into the generator. Instead of passing a gradient (slope) of 0 in the back-prop pass, it passes a small negative gradient.  - [Source](https://sthalles.github.io/advanced_gans/)\n",
    "\n",
    "Just like any other binary classification model, the output of the discriminator is a single number between 0 and 1, which can be interpreted as the probability of the input image being fake i.e. generated.\n",
    "\n",
    "Let's move the discriminator model to the chosen device.\n",
    "\n",
    "In the context of PyTorch or similar deep learning frameworks, the expression D.to(device) is used to move a tensor or a model to a specific device for computation, such as a CPU or a GPU. Let me break it down for you:\n",
    "\n",
    "Tensor or Model: D represents either a tensor (data) or a model (neural network) object in PyTorch.\n",
    "\n",
    ".to(device): This is a method in PyTorch that allows you to specify the device where you want to perform computations. The device argument specifies the target device, which can be a CPU or a GPU. For example:\n",
    "\n",
    "device='cpu': Indicates that computations should be performed on the CPU.\n",
    "device='cuda:0' or device='cuda:1': Indicates that computations should be performed on a specific GPU. The number after cuda: refers to the GPU index."
   ]
  },
  {
   "cell_type": "code",
   "execution_count": 11,
   "metadata": {
    "id": "DyNnS95tayta"
   },
   "outputs": [],
   "source": [
    "D.to(device);"
   ]
  },
  {
   "cell_type": "markdown",
   "metadata": {
    "id": "xKOkwpz8Gtzo"
   },
   "source": [
    "## Generator Network\n",
    "\n",
    "The input to the generator is typically a vector or a matrix which is used as a seed for generating an image. Once again, to keep things simple, we'll use a feedfoward neural network with 3 layers, and the output will be a vector of size 784, which can be transformed to a 28x28 px image."
   ]
  },
  {
   "cell_type": "markdown",
   "metadata": {
    "id": "rRi1LHUzG5Ai"
   },
   "source": [
    "Generative Adversarial Networks (GANs), the term latent_size = 64 typically refers to the dimensionality of the latent space.\n",
    "\n",
    "Latent Space: The latent space is a lower-dimensional space where the model learns to represent the underlying structure or features of the input data in a more compact form. In VAEs and GANs, the latent space represents the space of encoded or generated data points.\n",
    "\n",
    "The latent_size = 64 statement indicates that the dimensionality of the latent space is 64. This means that each data point in the latent space is represented by a vector of 64 numbers."
   ]
  },
  {
   "cell_type": "code",
   "execution_count": 12,
   "metadata": {
    "id": "CEN6dWEyG4LS"
   },
   "outputs": [],
   "source": [
    "latent_size = 64"
   ]
  },
  {
   "cell_type": "code",
   "execution_count": 13,
   "metadata": {
    "id": "V4gHBcobGtab"
   },
   "outputs": [],
   "source": [
    "# G = nn.Sequential(\n",
    "#     nn.Linear(latent_size, hidden_size),\n",
    "#     nn.ReLU(),\n",
    "#     nn.Linear(hidden_size, hidden_size),\n",
    "#     nn.ReLU(),\n",
    "#     nn.Linear(hidden_size, image_size),\n",
    "#     nn.Tanh())\n",
    "\n",
    "G = nn.Sequential(\n",
    "    nn.Linear(latent_size, hidden_size),\n",
    "    nn.ReLU(),\n",
    "    nn.Linear(hidden_size, hidden_size),\n",
    "    nn.ReLU(),\n",
    "    nn.Linear(hidden_size, hidden_size),  # Additional layer\n",
    "    nn.ReLU(),  # Activation function\n",
    "    nn.Linear(hidden_size, hidden_size),  # Additional layer\n",
    "    nn.ReLU(),  # Activation function\n",
    "    nn.Linear(hidden_size, image_size),\n",
    "    nn.Tanh()\n",
    ")"
   ]
  },
  {
   "cell_type": "markdown",
   "metadata": {
    "id": "0Vb5gKohHQsQ"
   },
   "source": [
    "We use the TanH activation function for the output layer of the generator.\n",
    "\n",
    "<img src=\"https://nic.schraudolph.org/teach/NNcourse/figs/tanh.gif\" width=\"420\" >\n",
    "\n",
    "> \"The ReLU activation (Nair & Hinton, 2010) is used in the generator with the exception of the output layer which uses the Tanh function. We observed that using a bounded activation allowed the model to learn more quickly to saturate and cover the color space of the training distribution. Within the discriminator we found the leaky rectified activation (Maas et al., 2013) (Xu et al., 2015) to work well, especially for higher resolution modeling.\" - [Source](https://stackoverflow.com/questions/41489907/generative-adversarial-networks-tanh)\n",
    "\n",
    "\n",
    "Note that since the outputs of the TanH activation lie in the range `[-1,1]`, we have applied the same transformation to the images in the training dataset. Let's generate an output vector using the generator and view it as an image by transforming and denormalizing the output."
   ]
  },
  {
   "cell_type": "code",
   "execution_count": 14,
   "metadata": {
    "id": "Q5cH25mzGT8d"
   },
   "outputs": [],
   "source": [
    "y = G(torch.randn(2, latent_size))\n",
    "gen_imgs = denorm(y.reshape((-1, 28,28)).detach())"
   ]
  },
  {
   "cell_type": "code",
   "execution_count": 15,
   "metadata": {
    "colab": {
     "base_uri": "https://localhost:8080/",
     "height": 430
    },
    "id": "71U9BaMMHV7l",
    "outputId": "2623f949-bd53-49c6-ff57-96e20601a30b"
   },
   "outputs": [
    {
     "data": {
      "image/png": "[encoded data removed]",
      "text/plain": [
       "<Figure size 640x480 with 1 Axes>"
      ]
     },
     "metadata": {},
     "output_type": "display_data"
    }
   ],
   "source": [
    "plt.imshow(gen_imgs[0], cmap='gray');"
   ]
  },
  {
   "cell_type": "code",
   "execution_count": 16,
   "metadata": {
    "colab": {
     "base_uri": "https://localhost:8080/",
     "height": 430
    },
    "id": "t5FcJMScHZIn",
    "outputId": "d734dc72-cb23-426e-dde5-1be449d1ff60"
   },
   "outputs": [
    {
     "data": {
      "image/png": "[encoded data removed]",
      "text/plain": [
       "<Figure size 640x480 with 1 Axes>"
      ]
     },
     "metadata": {},
     "output_type": "display_data"
    }
   ],
   "source": [
    "plt.imshow(gen_imgs[1], cmap='gray');"
   ]
  },
  {
   "cell_type": "markdown",
   "metadata": {
    "id": "D1JL8N2qHeuS"
   },
   "source": [
    "As one might expect, the output from the generator is basically random noise. Let's define a helper function which can save a batch of outputs from the generator to a file.\n",
    "\n",
    "Let's move the generator to the chosen device."
   ]
  },
  {
   "cell_type": "code",
   "execution_count": 17,
   "metadata": {
    "id": "-TxkLGnRHblk"
   },
   "outputs": [],
   "source": [
    "G.to(device);"
   ]
  },
  {
   "cell_type": "markdown",
   "metadata": {
    "id": "M-lvmLalHoCD"
   },
   "source": [
    "## Discriminator Training\n",
    "\n",
    "Since the discriminator is a binary classification model, we can use the binary cross entropy loss function to quantify how well it is able to differentiate between real and generated images.\n",
    "\n",
    "<img src=\"https://image.slidesharecdn.com/chrishokamp-dublinnlp3-160805110319/95/task-based-learning-for-nlp-going-beyond-cross-entropy-chris-hokamp-10-638.jpg?cb=1470395213\" width=\"420\" >"
   ]
  },
  {
   "cell_type": "code",
   "execution_count": 18,
   "metadata": {
    "id": "sqEUzn-tHj1R"
   },
   "outputs": [],
   "source": [
    "criterion = nn.MSELoss() # LSGAN uses MSE\n",
    "d_optimizer = torch.optim.Adam(D.parameters(), lr=0.0002)"
   ]
  },
  {
   "cell_type": "markdown",
   "metadata": {
    "id": "pnxgp-9DHs2E"
   },
   "source": [
    "Let's define helper functions to reset gradients and  train the discriminator."
   ]
  },
  {
   "cell_type": "code",
   "execution_count": 19,
   "metadata": {
    "id": "NcK9iFp0HqVo"
   },
   "outputs": [],
   "source": [
    "def reset_grad():\n",
    "    d_optimizer.zero_grad()\n",
    "    g_optimizer.zero_grad()\n",
    "\n",
    "def train_discriminator(images):\n",
    "    # Create the labels which are later used as input for the BCE loss\n",
    "    real_labels = torch.ones(batch_size, 1).to(device)\n",
    "    fake_labels = torch.zeros(batch_size, 1).to(device)\n",
    "\n",
    "    # Loss for real images\n",
    "    outputs = D(images)\n",
    "    d_loss_real = criterion(outputs, real_labels)\n",
    "    real_score = outputs\n",
    "\n",
    "    # Loss for fake images\n",
    "    z = torch.randn(batch_size, latent_size).to(device)\n",
    "    fake_images = G(z)\n",
    "    outputs = D(fake_images)\n",
    "    d_loss_fake = criterion(outputs, fake_labels)\n",
    "    fake_score = outputs\n",
    "\n",
    "    # Combine losses\n",
    "    d_loss = d_loss_real + d_loss_fake\n",
    "    # Reset gradients\n",
    "    reset_grad()\n",
    "    # Compute gradients\n",
    "    d_loss.backward()\n",
    "    # Adjust the parameters using backprop\n",
    "    d_optimizer.step()\n",
    "\n",
    "    return d_loss, real_score, fake_score"
   ]
  },
  {
   "cell_type": "markdown",
   "metadata": {
    "id": "Nk3wIH8oH7yT"
   },
   "source": [
    "Here are the steps involved in training the discriminator.\n",
    "\n",
    "- We expect the discriminator to output 1 if the image was picked from the real MNIST dataset, and 0 if it was generated.\n",
    "\n",
    "- We first pass a batch of real images, and compute the loss, setting the target labels to 1.\n",
    "\n",
    "- Then, we generate a batch of fake images using the generator, pass them into the discriminator, and compute the loss, setting the target labels to 0.\n",
    "\n",
    "- Finally we add the two losses and use the overall loss to perform gradient descent to adjust the weights of the discriminator.\n",
    "\n",
    "It's important to note that we don't change the weights of the generator model while training the discriminator (`d_optimizer` only affects the `D.parameters()`)"
   ]
  },
  {
   "cell_type": "markdown",
   "metadata": {
    "id": "K_WPgo6jIGMw"
   },
   "source": [
    "# Step2. Train the GAN model to produce images in this new domain.\n",
    "\n"
   ]
  },
  {
   "cell_type": "markdown",
   "metadata": {
    "id": "l1Chow82H_P5"
   },
   "source": [
    "## Generator Training\n",
    "\n",
    "Since the outputs of the generator are images, it's not obvious how we can train the generator. This is where we employ a rather elegant trick, which is to use the discriminator as a part of the loss function. Here's how it works:\n",
    "\n",
    "- We generate a batch of images using the generator, pass the into the discriminator.\n",
    "\n",
    "- We calculate the loss by setting the target labels to 1 i.e. real. We do this because the generator's objective is to \"fool\" the discriminator.\n",
    "\n",
    "- We use the loss to perform gradient descent i.e. change the weights of the generator, so it gets better at generating real-like images.\n",
    "\n",
    "Here's what this looks like in code."
   ]
  },
  {
   "cell_type": "code",
   "execution_count": 20,
   "metadata": {
    "id": "VfHzPK1WHwPw"
   },
   "outputs": [],
   "source": [
    "g_optimizer = torch.optim.Adam(G.parameters(), lr=0.0002)"
   ]
  },
  {
   "cell_type": "code",
   "execution_count": 21,
   "metadata": {
    "id": "tjsFzh3wINu2"
   },
   "outputs": [],
   "source": [
    "def train_generator():\n",
    "    # Generate fake images and calculate loss\n",
    "    z = torch.randn(batch_size, latent_size).to(device)\n",
    "    fake_images = G(z)\n",
    "    labels = torch.ones(batch_size, 1).to(device)\n",
    "    g_loss = criterion(D(fake_images), labels)\n",
    "\n",
    "    # Backprop and optimize\n",
    "    reset_grad()\n",
    "    g_loss.backward()\n",
    "    g_optimizer.step()\n",
    "    return g_loss, fake_images"
   ]
  },
  {
   "cell_type": "markdown",
   "metadata": {
    "id": "1eK8WefEIUlq"
   },
   "source": [
    "## Training the Model\n",
    "\n",
    "Let's create a directory where we can save intermediate outputs from the generator to visually inspect the progress of the model"
   ]
  },
  {
   "cell_type": "code",
   "execution_count": 22,
   "metadata": {
    "id": "CrebMk5DIUMY"
   },
   "outputs": [],
   "source": [
    "import os\n",
    "\n",
    "sample_dir = 'samples'\n",
    "if not os.path.exists(sample_dir):\n",
    "    os.makedirs(sample_dir)"
   ]
  },
  {
   "cell_type": "code",
   "execution_count": 23,
   "metadata": {
    "colab": {
     "base_uri": "https://localhost:8080/",
     "height": 319
    },
    "id": "IrMWCRenIPuw",
    "outputId": "d893f9ca-c480-4e01-aa02-33068ff3c10e"
   },
   "outputs": [
    {
     "data": {
      "image/png": "[encoded data removed]",
      "text/plain": [
       "<IPython.core.display.Image object>"
      ]
     },
     "execution_count": 23,
     "metadata": {},
     "output_type": "execute_result"
    }
   ],
   "source": [
    "from IPython.display import Image\n",
    "from torchvision.utils import save_image\n",
    "\n",
    "# Save some real images\n",
    "for images, _ in data_loader:\n",
    "    images = images.reshape(images.size(0), 1, 28, 28)\n",
    "    save_image(denorm(images), os.path.join(sample_dir, 'real_images.png'), nrow=10)\n",
    "    break\n",
    "\n",
    "Image(os.path.join(sample_dir, 'real_images.png'))"
   ]
  },
  {
   "cell_type": "markdown",
   "metadata": {
    "id": "ghK-C8DpId83"
   },
   "source": [
    "We'll also define a helper function to save a batch of generated images to disk at the end of every epoch. We'll use a fixed set of input vectors to the generator to see how the individual generated images evolve over time as we train the model."
   ]
  },
  {
   "cell_type": "code",
   "execution_count": 24,
   "metadata": {
    "colab": {
     "base_uri": "https://localhost:8080/",
     "height": 337
    },
    "id": "gKQo4ufsIZkR",
    "outputId": "cb8b998e-2661-4c35-9215-10ff686bfa00"
   },
   "outputs": [
    {
     "name": "stdout",
     "output_type": "stream",
     "text": [
      "Saving fake_images-0000.png\n"
     ]
    },
    {
     "data": {
      "image/png": "[encoded data removed]",
      "text/plain": [
       "<IPython.core.display.Image object>"
      ]
     },
     "execution_count": 24,
     "metadata": {},
     "output_type": "execute_result"
    }
   ],
   "source": [
    "sample_vectors = torch.randn(batch_size, latent_size).to(device)\n",
    "\n",
    "def save_fake_images(index):\n",
    "    fake_images = G(sample_vectors)\n",
    "    fake_images = fake_images.reshape(fake_images.size(0), 1, 28, 28)\n",
    "    fake_fname = 'fake_images-{0:0=4d}.png'.format(index)\n",
    "    print('Saving', fake_fname)\n",
    "    save_image(denorm(fake_images), os.path.join(sample_dir, fake_fname), nrow=10)\n",
    "\n",
    "# Before training\n",
    "save_fake_images(0)\n",
    "Image(os.path.join(sample_dir, 'fake_images-0000.png'))"
   ]
  },
  {
   "cell_type": "markdown",
   "metadata": {
    "id": "Z4MDgMVEIjyf"
   },
   "source": [
    "We are now ready to train the model. In each epoch, we train the discriminator first, and then the generator. The training might take a while if you're not using a GPU."
   ]
  },
  {
   "cell_type": "code",
   "execution_count": null,
   "metadata": {
    "colab": {
     "base_uri": "https://localhost:8080/"
    },
    "id": "5q_5A0bxIgTH",
    "outputId": "a9de4bf5-e827-48b1-d04a-46e847456c02"
   },
   "outputs": [
    {
     "name": "stdout",
     "output_type": "stream",
     "text": [
      "Epoch [0/300], Step [200/600], d_loss: 0.0069, g_loss: 0.9799, D(x): 0.96, D(G(z)): 0.04\n",
      "Epoch [0/300], Step [400/600], d_loss: 0.0000, g_loss: 0.9990, D(x): 1.00, D(G(z)): 0.00\n",
      "Epoch [0/300], Step [600/600], d_loss: 0.0000, g_loss: 0.9999, D(x): 1.00, D(G(z)): 0.00\n",
      "Saving fake_images-0001.png\n",
      "Epoch [1/300], Step [200/600], d_loss: 0.0000, g_loss: 1.0000, D(x): 1.00, D(G(z)): 0.00\n",
      "Epoch [1/300], Step [400/600], d_loss: 0.0001, g_loss: 0.9984, D(x): 1.00, D(G(z)): 0.00\n",
      "Epoch [1/300], Step [600/600], d_loss: 0.0196, g_loss: 0.8906, D(x): 1.00, D(G(z)): 0.14\n",
      "Saving fake_images-0002.png\n",
      "Epoch [2/300], Step [200/600], d_loss: 0.0003, g_loss: 0.9924, D(x): 1.00, D(G(z)): 0.02\n",
      "Epoch [2/300], Step [400/600], d_loss: 0.0000, g_loss: 1.0000, D(x): 1.00, D(G(z)): 0.00\n",
      "Epoch [2/300], Step [600/600], d_loss: 0.0058, g_loss: 0.9999, D(x): 0.97, D(G(z)): 0.00\n",
      "Saving fake_images-0003.png\n",
      "Epoch [3/300], Step [200/600], d_loss: 0.0041, g_loss: 0.9994, D(x): 0.98, D(G(z)): 0.00\n",
      "Epoch [3/300], Step [400/600], d_loss: 0.0000, g_loss: 0.9998, D(x): 1.00, D(G(z)): 0.00\n",
      "Epoch [3/300], Step [600/600], d_loss: 0.1713, g_loss: 1.0000, D(x): 0.80, D(G(z)): 0.00\n",
      "Saving fake_images-0004.png\n",
      "Epoch [4/300], Step [200/600], d_loss: 0.3016, g_loss: 0.9933, D(x): 0.68, D(G(z)): 0.01\n",
      "Epoch [4/300], Step [400/600], d_loss: 0.1088, g_loss: 0.9649, D(x): 0.92, D(G(z)): 0.04\n",
      "Epoch [4/300], Step [600/600], d_loss: 1.0000, g_loss: 0.0000, D(x): 1.00, D(G(z)): 1.00\n",
      "Saving fake_images-0005.png\n",
      "Epoch [5/300], Step [200/600], d_loss: 1.0000, g_loss: 0.0000, D(x): 1.00, D(G(z)): 1.00\n",
      "Epoch [5/300], Step [400/600], d_loss: 1.0000, g_loss: 0.0000, D(x): 1.00, D(G(z)): 1.00\n",
      "Epoch [5/300], Step [600/600], d_loss: 1.0000, g_loss: 0.0000, D(x): 1.00, D(G(z)): 1.00\n",
      "Saving fake_images-0006.png\n",
      "Epoch [6/300], Step [200/600], d_loss: 1.0000, g_loss: 0.0000, D(x): 1.00, D(G(z)): 1.00\n",
      "Epoch [6/300], Step [400/600], d_loss: 1.0000, g_loss: 0.0000, D(x): 1.00, D(G(z)): 1.00\n",
      "Epoch [6/300], Step [600/600], d_loss: 1.0000, g_loss: 0.0000, D(x): 1.00, D(G(z)): 1.00\n",
      "Saving fake_images-0007.png\n",
      "Epoch [7/300], Step [200/600], d_loss: 1.0000, g_loss: 0.0000, D(x): 1.00, D(G(z)): 1.00\n",
      "Epoch [7/300], Step [400/600], d_loss: 1.0000, g_loss: 0.0000, D(x): 1.00, D(G(z)): 1.00\n",
      "Epoch [7/300], Step [600/600], d_loss: 1.0000, g_loss: 0.0000, D(x): 1.00, D(G(z)): 1.00\n",
      "Saving fake_images-0008.png\n",
      "Epoch [8/300], Step [200/600], d_loss: 1.0000, g_loss: 0.0000, D(x): 1.00, D(G(z)): 1.00\n",
      "Epoch [8/300], Step [400/600], d_loss: 1.0000, g_loss: 0.0000, D(x): 1.00, D(G(z)): 1.00\n",
      "Epoch [8/300], Step [600/600], d_loss: 1.0000, g_loss: 0.0000, D(x): 1.00, D(G(z)): 1.00\n",
      "Saving fake_images-0009.png\n",
      "Epoch [9/300], Step [200/600], d_loss: 1.0000, g_loss: 0.0000, D(x): 1.00, D(G(z)): 1.00\n",
      "Epoch [9/300], Step [400/600], d_loss: 1.0000, g_loss: 0.0000, D(x): 1.00, D(G(z)): 1.00\n",
      "Epoch [9/300], Step [600/600], d_loss: 1.0000, g_loss: 0.0000, D(x): 1.00, D(G(z)): 1.00\n",
      "Saving fake_images-0010.png\n",
      "Epoch [10/300], Step [200/600], d_loss: 1.0000, g_loss: 0.0000, D(x): 1.00, D(G(z)): 1.00\n",
      "Epoch [10/300], Step [400/600], d_loss: 1.0000, g_loss: 0.0000, D(x): 1.00, D(G(z)): 1.00\n",
      "Epoch [10/300], Step [600/600], d_loss: 1.0000, g_loss: 0.0000, D(x): 1.00, D(G(z)): 1.00\n",
      "Saving fake_images-0011.png\n",
      "Epoch [11/300], Step [200/600], d_loss: 1.0000, g_loss: 0.0000, D(x): 1.00, D(G(z)): 1.00\n",
      "Epoch [11/300], Step [400/600], d_loss: 1.0000, g_loss: 0.0000, D(x): 1.00, D(G(z)): 1.00\n",
      "Epoch [11/300], Step [600/600], d_loss: 1.0000, g_loss: 0.0000, D(x): 1.00, D(G(z)): 1.00\n",
      "Saving fake_images-0012.png\n",
      "Epoch [12/300], Step [200/600], d_loss: 1.0000, g_loss: 0.0000, D(x): 1.00, D(G(z)): 1.00\n",
      "Epoch [12/300], Step [400/600], d_loss: 1.0000, g_loss: 0.0000, D(x): 1.00, D(G(z)): 1.00\n",
      "Epoch [12/300], Step [600/600], d_loss: 1.0000, g_loss: 0.0000, D(x): 1.00, D(G(z)): 1.00\n",
      "Saving fake_images-0013.png\n",
      "Epoch [13/300], Step [200/600], d_loss: 1.0000, g_loss: 0.0000, D(x): 1.00, D(G(z)): 1.00\n",
      "Epoch [13/300], Step [400/600], d_loss: 1.0000, g_loss: 0.0000, D(x): 1.00, D(G(z)): 1.00\n",
      "Epoch [13/300], Step [600/600], d_loss: 1.0000, g_loss: 0.0000, D(x): 1.00, D(G(z)): 1.00\n",
      "Saving fake_images-0014.png\n",
      "Epoch [14/300], Step [200/600], d_loss: 1.0000, g_loss: 0.0000, D(x): 1.00, D(G(z)): 1.00\n",
      "Epoch [14/300], Step [400/600], d_loss: 1.0000, g_loss: 0.0000, D(x): 1.00, D(G(z)): 1.00\n",
      "Epoch [14/300], Step [600/600], d_loss: 1.0000, g_loss: 0.0000, D(x): 1.00, D(G(z)): 1.00\n",
      "Saving fake_images-0015.png\n",
      "Epoch [15/300], Step [200/600], d_loss: 1.0000, g_loss: 0.0000, D(x): 1.00, D(G(z)): 1.00\n",
      "Epoch [15/300], Step [400/600], d_loss: 1.0000, g_loss: 0.0000, D(x): 1.00, D(G(z)): 1.00\n",
      "Epoch [15/300], Step [600/600], d_loss: 1.0000, g_loss: 0.0000, D(x): 1.00, D(G(z)): 1.00\n",
      "Saving fake_images-0016.png\n",
      "Epoch [16/300], Step [200/600], d_loss: 1.0000, g_loss: 0.0000, D(x): 1.00, D(G(z)): 1.00\n",
      "Epoch [16/300], Step [400/600], d_loss: 1.0000, g_loss: 0.0000, D(x): 1.00, D(G(z)): 1.00\n",
      "Epoch [16/300], Step [600/600], d_loss: 1.0000, g_loss: 0.0000, D(x): 1.00, D(G(z)): 1.00\n",
      "Saving fake_images-0017.png\n",
      "Epoch [17/300], Step [200/600], d_loss: 1.0000, g_loss: 0.0000, D(x): 1.00, D(G(z)): 1.00\n",
      "Epoch [17/300], Step [400/600], d_loss: 1.0000, g_loss: 0.0000, D(x): 1.00, D(G(z)): 1.00\n",
      "Epoch [17/300], Step [600/600], d_loss: 1.0000, g_loss: 0.0000, D(x): 1.00, D(G(z)): 1.00\n",
      "Saving fake_images-0018.png\n",
      "Epoch [18/300], Step [200/600], d_loss: 1.0000, g_loss: 0.0000, D(x): 1.00, D(G(z)): 1.00\n",
      "Epoch [18/300], Step [400/600], d_loss: 1.0000, g_loss: 0.0000, D(x): 1.00, D(G(z)): 1.00\n",
      "Epoch [18/300], Step [600/600], d_loss: 1.0000, g_loss: 0.0000, D(x): 1.00, D(G(z)): 1.00\n",
      "Saving fake_images-0019.png\n",
      "Epoch [19/300], Step [200/600], d_loss: 1.0000, g_loss: 0.0000, D(x): 1.00, D(G(z)): 1.00\n",
      "Epoch [19/300], Step [400/600], d_loss: 1.0000, g_loss: 0.0000, D(x): 1.00, D(G(z)): 1.00\n",
      "Epoch [19/300], Step [600/600], d_loss: 1.0000, g_loss: 0.0000, D(x): 1.00, D(G(z)): 1.00\n",
      "Saving fake_images-0020.png\n",
      "Epoch [20/300], Step [200/600], d_loss: 1.0000, g_loss: 0.0000, D(x): 1.00, D(G(z)): 1.00\n",
      "Epoch [20/300], Step [400/600], d_loss: 1.0000, g_loss: 0.0000, D(x): 1.00, D(G(z)): 1.00\n",
      "Epoch [20/300], Step [600/600], d_loss: 1.0000, g_loss: 0.0000, D(x): 1.00, D(G(z)): 1.00\n",
      "Saving fake_images-0021.png\n",
      "Epoch [21/300], Step [200/600], d_loss: 1.0000, g_loss: 0.0000, D(x): 1.00, D(G(z)): 1.00\n",
      "Epoch [21/300], Step [400/600], d_loss: 1.0000, g_loss: 0.0000, D(x): 1.00, D(G(z)): 1.00\n",
      "Epoch [21/300], Step [600/600], d_loss: 1.0000, g_loss: 0.0000, D(x): 1.00, D(G(z)): 1.00\n",
      "Saving fake_images-0022.png\n",
      "Epoch [22/300], Step [200/600], d_loss: 1.0000, g_loss: 0.0000, D(x): 1.00, D(G(z)): 1.00\n",
      "Epoch [22/300], Step [400/600], d_loss: 1.0000, g_loss: 0.0000, D(x): 1.00, D(G(z)): 1.00\n",
      "Epoch [22/300], Step [600/600], d_loss: 1.0000, g_loss: 0.0000, D(x): 1.00, D(G(z)): 1.00\n",
      "Saving fake_images-0023.png\n",
      "Epoch [23/300], Step [200/600], d_loss: 1.0000, g_loss: 0.0000, D(x): 1.00, D(G(z)): 1.00\n",
      "Epoch [23/300], Step [400/600], d_loss: 1.0000, g_loss: 0.0000, D(x): 1.00, D(G(z)): 1.00\n",
      "Epoch [23/300], Step [600/600], d_loss: 1.0000, g_loss: 0.0000, D(x): 1.00, D(G(z)): 1.00\n",
      "Saving fake_images-0024.png\n",
      "Epoch [24/300], Step [200/600], d_loss: 1.0000, g_loss: 0.0000, D(x): 1.00, D(G(z)): 1.00\n",
      "Epoch [24/300], Step [400/600], d_loss: 1.0000, g_loss: 0.0000, D(x): 1.00, D(G(z)): 1.00\n",
      "Epoch [24/300], Step [600/600], d_loss: 1.0000, g_loss: 0.0000, D(x): 1.00, D(G(z)): 1.00\n",
      "Saving fake_images-0025.png\n",
      "Epoch [25/300], Step [200/600], d_loss: 1.0000, g_loss: 0.0000, D(x): 1.00, D(G(z)): 1.00\n",
      "Epoch [25/300], Step [400/600], d_loss: 1.0000, g_loss: 0.0000, D(x): 1.00, D(G(z)): 1.00\n",
      "Epoch [25/300], Step [600/600], d_loss: 1.0000, g_loss: 0.0000, D(x): 1.00, D(G(z)): 1.00\n",
      "Saving fake_images-0026.png\n",
      "Epoch [26/300], Step [200/600], d_loss: 1.0000, g_loss: 0.0000, D(x): 1.00, D(G(z)): 1.00\n",
      "Epoch [26/300], Step [400/600], d_loss: 1.0000, g_loss: 0.0000, D(x): 1.00, D(G(z)): 1.00\n",
      "Epoch [26/300], Step [600/600], d_loss: 1.0000, g_loss: 0.0000, D(x): 1.00, D(G(z)): 1.00\n",
      "Saving fake_images-0027.png\n",
      "Epoch [27/300], Step [200/600], d_loss: 1.0000, g_loss: 0.0000, D(x): 1.00, D(G(z)): 1.00\n",
      "Epoch [27/300], Step [400/600], d_loss: 1.0000, g_loss: 0.0000, D(x): 1.00, D(G(z)): 1.00\n",
      "Epoch [27/300], Step [600/600], d_loss: 1.0000, g_loss: 0.0000, D(x): 1.00, D(G(z)): 1.00\n",
      "Saving fake_images-0028.png\n",
      "Epoch [28/300], Step [200/600], d_loss: 1.0000, g_loss: 0.0000, D(x): 1.00, D(G(z)): 1.00\n",
      "Epoch [28/300], Step [400/600], d_loss: 1.0000, g_loss: 0.0000, D(x): 1.00, D(G(z)): 1.00\n",
      "Epoch [28/300], Step [600/600], d_loss: 1.0000, g_loss: 0.0000, D(x): 1.00, D(G(z)): 1.00\n",
      "Saving fake_images-0029.png\n",
      "Epoch [29/300], Step [200/600], d_loss: 1.0000, g_loss: 0.0000, D(x): 1.00, D(G(z)): 1.00\n",
      "Epoch [29/300], Step [400/600], d_loss: 1.0000, g_loss: 0.0000, D(x): 1.00, D(G(z)): 1.00\n",
      "Epoch [29/300], Step [600/600], d_loss: 1.0000, g_loss: 0.0000, D(x): 1.00, D(G(z)): 1.00\n",
      "Saving fake_images-0030.png\n",
      "Epoch [30/300], Step [200/600], d_loss: 1.0000, g_loss: 0.0000, D(x): 1.00, D(G(z)): 1.00\n",
      "Epoch [30/300], Step [400/600], d_loss: 1.0000, g_loss: 0.0000, D(x): 1.00, D(G(z)): 1.00\n",
      "Epoch [30/300], Step [600/600], d_loss: 1.0000, g_loss: 0.0000, D(x): 1.00, D(G(z)): 1.00\n",
      "Saving fake_images-0031.png\n",
      "Epoch [31/300], Step [200/600], d_loss: 1.0000, g_loss: 0.0000, D(x): 1.00, D(G(z)): 1.00\n",
      "Epoch [31/300], Step [400/600], d_loss: 1.0000, g_loss: 0.0000, D(x): 1.00, D(G(z)): 1.00\n",
      "Epoch [31/300], Step [600/600], d_loss: 1.0000, g_loss: 0.0000, D(x): 1.00, D(G(z)): 1.00\n",
      "Saving fake_images-0032.png\n",
      "Epoch [32/300], Step [200/600], d_loss: 1.0000, g_loss: 0.0000, D(x): 1.00, D(G(z)): 1.00\n",
      "Epoch [32/300], Step [400/600], d_loss: 1.0000, g_loss: 0.0000, D(x): 1.00, D(G(z)): 1.00\n",
      "Epoch [32/300], Step [600/600], d_loss: 1.0000, g_loss: 0.0000, D(x): 1.00, D(G(z)): 1.00\n",
      "Saving fake_images-0033.png\n",
      "Epoch [33/300], Step [200/600], d_loss: 1.0000, g_loss: 0.0000, D(x): 1.00, D(G(z)): 1.00\n",
      "Epoch [33/300], Step [400/600], d_loss: 1.0000, g_loss: 0.0000, D(x): 1.00, D(G(z)): 1.00\n",
      "Epoch [33/300], Step [600/600], d_loss: 1.0000, g_loss: 0.0000, D(x): 1.00, D(G(z)): 1.00\n",
      "Saving fake_images-0034.png\n",
      "Epoch [34/300], Step [200/600], d_loss: 1.0000, g_loss: 0.0000, D(x): 1.00, D(G(z)): 1.00\n",
      "Epoch [34/300], Step [400/600], d_loss: 1.0000, g_loss: 0.0000, D(x): 1.00, D(G(z)): 1.00\n",
      "Epoch [34/300], Step [600/600], d_loss: 1.0000, g_loss: 0.0000, D(x): 1.00, D(G(z)): 1.00\n",
      "Saving fake_images-0035.png\n",
      "Epoch [35/300], Step [200/600], d_loss: 1.0000, g_loss: 0.0000, D(x): 1.00, D(G(z)): 1.00\n",
      "Epoch [35/300], Step [400/600], d_loss: 1.0000, g_loss: 0.0000, D(x): 1.00, D(G(z)): 1.00\n",
      "Epoch [35/300], Step [600/600], d_loss: 1.0000, g_loss: 0.0000, D(x): 1.00, D(G(z)): 1.00\n",
      "Saving fake_images-0036.png\n",
      "Epoch [36/300], Step [200/600], d_loss: 1.0000, g_loss: 0.0000, D(x): 1.00, D(G(z)): 1.00\n",
      "Epoch [36/300], Step [400/600], d_loss: 1.0000, g_loss: 0.0000, D(x): 1.00, D(G(z)): 1.00\n",
      "Epoch [36/300], Step [600/600], d_loss: 1.0000, g_loss: 0.0000, D(x): 1.00, D(G(z)): 1.00\n",
      "Saving fake_images-0037.png\n",
      "Epoch [37/300], Step [200/600], d_loss: 1.0000, g_loss: 0.0000, D(x): 1.00, D(G(z)): 1.00\n",
      "Epoch [37/300], Step [400/600], d_loss: 1.0000, g_loss: 0.0000, D(x): 1.00, D(G(z)): 1.00\n",
      "Epoch [37/300], Step [600/600], d_loss: 1.0000, g_loss: 0.0000, D(x): 1.00, D(G(z)): 1.00\n",
      "Saving fake_images-0038.png\n",
      "Epoch [38/300], Step [200/600], d_loss: 1.0000, g_loss: 0.0000, D(x): 1.00, D(G(z)): 1.00\n",
      "Epoch [38/300], Step [400/600], d_loss: 1.0000, g_loss: 0.0000, D(x): 1.00, D(G(z)): 1.00\n",
      "Epoch [38/300], Step [600/600], d_loss: 1.0000, g_loss: 0.0000, D(x): 1.00, D(G(z)): 1.00\n",
      "Saving fake_images-0039.png\n",
      "Epoch [39/300], Step [200/600], d_loss: 1.0000, g_loss: 0.0000, D(x): 1.00, D(G(z)): 1.00\n",
      "Epoch [39/300], Step [400/600], d_loss: 1.0000, g_loss: 0.0000, D(x): 1.00, D(G(z)): 1.00\n",
      "Epoch [39/300], Step [600/600], d_loss: 1.0000, g_loss: 0.0000, D(x): 1.00, D(G(z)): 1.00\n",
      "Saving fake_images-0040.png\n",
      "Epoch [40/300], Step [200/600], d_loss: 1.0000, g_loss: 0.0000, D(x): 1.00, D(G(z)): 1.00\n",
      "Epoch [40/300], Step [400/600], d_loss: 1.0000, g_loss: 0.0000, D(x): 1.00, D(G(z)): 1.00\n",
      "Epoch [40/300], Step [600/600], d_loss: 1.0000, g_loss: 0.0000, D(x): 1.00, D(G(z)): 1.00\n",
      "Saving fake_images-0041.png\n",
      "Epoch [41/300], Step [200/600], d_loss: 1.0000, g_loss: 0.0000, D(x): 1.00, D(G(z)): 1.00\n",
      "Epoch [41/300], Step [400/600], d_loss: 1.0000, g_loss: 0.0000, D(x): 1.00, D(G(z)): 1.00\n",
      "Epoch [41/300], Step [600/600], d_loss: 1.0000, g_loss: 0.0000, D(x): 1.00, D(G(z)): 1.00\n",
      "Saving fake_images-0042.png\n",
      "Epoch [42/300], Step [200/600], d_loss: 1.0000, g_loss: 0.0000, D(x): 1.00, D(G(z)): 1.00\n",
      "Epoch [42/300], Step [400/600], d_loss: 1.0000, g_loss: 0.0000, D(x): 1.00, D(G(z)): 1.00\n",
      "Epoch [42/300], Step [600/600], d_loss: 1.0000, g_loss: 0.0000, D(x): 1.00, D(G(z)): 1.00\n",
      "Saving fake_images-0043.png\n",
      "Epoch [43/300], Step [200/600], d_loss: 1.0000, g_loss: 0.0000, D(x): 1.00, D(G(z)): 1.00\n",
      "Epoch [43/300], Step [400/600], d_loss: 1.0000, g_loss: 0.0000, D(x): 1.00, D(G(z)): 1.00\n",
      "Epoch [43/300], Step [600/600], d_loss: 1.0000, g_loss: 0.0000, D(x): 1.00, D(G(z)): 1.00\n",
      "Saving fake_images-0044.png\n",
      "Epoch [44/300], Step [200/600], d_loss: 1.0000, g_loss: 0.0000, D(x): 1.00, D(G(z)): 1.00\n",
      "Epoch [44/300], Step [400/600], d_loss: 1.0000, g_loss: 0.0000, D(x): 1.00, D(G(z)): 1.00\n",
      "Epoch [44/300], Step [600/600], d_loss: 1.0000, g_loss: 0.0000, D(x): 1.00, D(G(z)): 1.00\n",
      "Saving fake_images-0045.png\n",
      "Epoch [45/300], Step [200/600], d_loss: 1.0000, g_loss: 0.0000, D(x): 1.00, D(G(z)): 1.00\n",
      "Epoch [45/300], Step [400/600], d_loss: 1.0000, g_loss: 0.0000, D(x): 1.00, D(G(z)): 1.00\n",
      "Epoch [45/300], Step [600/600], d_loss: 1.0000, g_loss: 0.0000, D(x): 1.00, D(G(z)): 1.00\n",
      "Saving fake_images-0046.png\n",
      "Epoch [46/300], Step [200/600], d_loss: 1.0000, g_loss: 0.0000, D(x): 1.00, D(G(z)): 1.00\n",
      "Epoch [46/300], Step [400/600], d_loss: 1.0000, g_loss: 0.0000, D(x): 1.00, D(G(z)): 1.00\n",
      "Epoch [46/300], Step [600/600], d_loss: 1.0000, g_loss: 0.0000, D(x): 1.00, D(G(z)): 1.00\n",
      "Saving fake_images-0047.png\n",
      "Epoch [47/300], Step [200/600], d_loss: 1.0000, g_loss: 0.0000, D(x): 1.00, D(G(z)): 1.00\n",
      "Epoch [47/300], Step [400/600], d_loss: 1.0000, g_loss: 0.0000, D(x): 1.00, D(G(z)): 1.00\n",
      "Epoch [47/300], Step [600/600], d_loss: 1.0000, g_loss: 0.0000, D(x): 1.00, D(G(z)): 1.00\n",
      "Saving fake_images-0048.png\n",
      "Epoch [48/300], Step [200/600], d_loss: 1.0000, g_loss: 0.0000, D(x): 1.00, D(G(z)): 1.00\n",
      "Epoch [48/300], Step [400/600], d_loss: 1.0000, g_loss: 0.0000, D(x): 1.00, D(G(z)): 1.00\n",
      "Epoch [48/300], Step [600/600], d_loss: 1.0000, g_loss: 0.0000, D(x): 1.00, D(G(z)): 1.00\n",
      "Saving fake_images-0049.png\n",
      "Epoch [49/300], Step [200/600], d_loss: 1.0000, g_loss: 0.0000, D(x): 1.00, D(G(z)): 1.00\n",
      "Epoch [49/300], Step [400/600], d_loss: 1.0000, g_loss: 0.0000, D(x): 1.00, D(G(z)): 1.00\n",
      "Epoch [49/300], Step [600/600], d_loss: 1.0000, g_loss: 0.0000, D(x): 1.00, D(G(z)): 1.00\n",
      "Saving fake_images-0050.png\n",
      "Epoch [50/300], Step [200/600], d_loss: 1.0000, g_loss: 0.0000, D(x): 1.00, D(G(z)): 1.00\n",
      "Epoch [50/300], Step [400/600], d_loss: 1.0000, g_loss: 0.0000, D(x): 1.00, D(G(z)): 1.00\n",
      "Epoch [50/300], Step [600/600], d_loss: 1.0000, g_loss: 0.0000, D(x): 1.00, D(G(z)): 1.00\n",
      "Saving fake_images-0051.png\n",
      "Epoch [51/300], Step [200/600], d_loss: 1.0000, g_loss: 0.0000, D(x): 1.00, D(G(z)): 1.00\n",
      "Epoch [51/300], Step [400/600], d_loss: 1.0000, g_loss: 0.0000, D(x): 1.00, D(G(z)): 1.00\n",
      "Epoch [51/300], Step [600/600], d_loss: 1.0000, g_loss: 0.0000, D(x): 1.00, D(G(z)): 1.00\n",
      "Saving fake_images-0052.png\n",
      "Epoch [52/300], Step [200/600], d_loss: 0.0010, g_loss: 1.0000, D(x): 1.00, D(G(z)): 0.00\n",
      "Epoch [52/300], Step [400/600], d_loss: 0.0000, g_loss: 1.0000, D(x): 1.00, D(G(z)): 0.00\n",
      "Epoch [52/300], Step [600/600], d_loss: 0.0000, g_loss: 1.0000, D(x): 1.00, D(G(z)): 0.00\n",
      "Saving fake_images-0053.png\n",
      "Epoch [53/300], Step [200/600], d_loss: 0.0000, g_loss: 1.0000, D(x): 1.00, D(G(z)): 0.00\n",
      "Epoch [53/300], Step [400/600], d_loss: 0.0000, g_loss: 1.0000, D(x): 1.00, D(G(z)): 0.00\n",
      "Epoch [53/300], Step [600/600], d_loss: 0.0000, g_loss: 1.0000, D(x): 1.00, D(G(z)): 0.00\n",
      "Saving fake_images-0054.png\n",
      "Epoch [54/300], Step [200/600], d_loss: 0.0000, g_loss: 1.0000, D(x): 1.00, D(G(z)): 0.00\n",
      "Epoch [54/300], Step [400/600], d_loss: 0.0000, g_loss: 1.0000, D(x): 1.00, D(G(z)): 0.00\n",
      "Epoch [54/300], Step [600/600], d_loss: 0.0000, g_loss: 1.0000, D(x): 1.00, D(G(z)): 0.00\n",
      "Saving fake_images-0055.png\n",
      "Epoch [55/300], Step [200/600], d_loss: 0.0000, g_loss: 1.0000, D(x): 1.00, D(G(z)): 0.00\n",
      "Epoch [55/300], Step [400/600], d_loss: 0.0000, g_loss: 1.0000, D(x): 1.00, D(G(z)): 0.00\n",
      "Epoch [55/300], Step [600/600], d_loss: 0.0000, g_loss: 1.0000, D(x): 1.00, D(G(z)): 0.00\n",
      "Saving fake_images-0056.png\n",
      "Epoch [56/300], Step [200/600], d_loss: 0.0000, g_loss: 1.0000, D(x): 1.00, D(G(z)): 0.00\n",
      "Epoch [56/300], Step [400/600], d_loss: 0.0000, g_loss: 1.0000, D(x): 1.00, D(G(z)): 0.00\n",
      "Epoch [56/300], Step [600/600], d_loss: 0.0000, g_loss: 1.0000, D(x): 1.00, D(G(z)): 0.00\n",
      "Saving fake_images-0057.png\n",
      "Epoch [57/300], Step [200/600], d_loss: 0.0000, g_loss: 1.0000, D(x): 1.00, D(G(z)): 0.00\n",
      "Epoch [57/300], Step [400/600], d_loss: 0.0000, g_loss: 1.0000, D(x): 1.00, D(G(z)): 0.00\n",
      "Epoch [57/300], Step [600/600], d_loss: 0.0000, g_loss: 1.0000, D(x): 1.00, D(G(z)): 0.00\n",
      "Saving fake_images-0058.png\n",
      "Epoch [58/300], Step [200/600], d_loss: 0.0000, g_loss: 1.0000, D(x): 1.00, D(G(z)): 0.00\n",
      "Epoch [58/300], Step [400/600], d_loss: 0.0000, g_loss: 1.0000, D(x): 1.00, D(G(z)): 0.00\n",
      "Epoch [58/300], Step [600/600], d_loss: 0.0000, g_loss: 1.0000, D(x): 1.00, D(G(z)): 0.00\n",
      "Saving fake_images-0059.png\n",
      "Epoch [59/300], Step [200/600], d_loss: 0.0000, g_loss: 1.0000, D(x): 1.00, D(G(z)): 0.00\n",
      "Epoch [59/300], Step [400/600], d_loss: 0.0000, g_loss: 1.0000, D(x): 1.00, D(G(z)): 0.00\n",
      "Epoch [59/300], Step [600/600], d_loss: 0.0000, g_loss: 1.0000, D(x): 1.00, D(G(z)): 0.00\n",
      "Saving fake_images-0060.png\n",
      "Epoch [60/300], Step [200/600], d_loss: 0.0000, g_loss: 1.0000, D(x): 1.00, D(G(z)): 0.00\n",
      "Epoch [60/300], Step [400/600], d_loss: 0.0000, g_loss: 1.0000, D(x): 1.00, D(G(z)): 0.00\n",
      "Epoch [60/300], Step [600/600], d_loss: 0.0000, g_loss: 1.0000, D(x): 1.00, D(G(z)): 0.00\n",
      "Saving fake_images-0061.png\n",
      "Epoch [61/300], Step [200/600], d_loss: 0.0000, g_loss: 1.0000, D(x): 1.00, D(G(z)): 0.00\n",
      "Epoch [61/300], Step [400/600], d_loss: 0.0000, g_loss: 1.0000, D(x): 1.00, D(G(z)): 0.00\n",
      "Epoch [61/300], Step [600/600], d_loss: 0.0000, g_loss: 1.0000, D(x): 1.00, D(G(z)): 0.00\n",
      "Saving fake_images-0062.png\n",
      "Epoch [62/300], Step [200/600], d_loss: 0.0000, g_loss: 1.0000, D(x): 1.00, D(G(z)): 0.00\n",
      "Epoch [62/300], Step [400/600], d_loss: 0.0000, g_loss: 1.0000, D(x): 1.00, D(G(z)): 0.00\n",
      "Epoch [62/300], Step [600/600], d_loss: 0.0000, g_loss: 1.0000, D(x): 1.00, D(G(z)): 0.00\n",
      "Saving fake_images-0063.png\n",
      "Epoch [63/300], Step [200/600], d_loss: 0.0000, g_loss: 1.0000, D(x): 1.00, D(G(z)): 0.00\n",
      "Epoch [63/300], Step [400/600], d_loss: 0.0000, g_loss: 1.0000, D(x): 1.00, D(G(z)): 0.00\n",
      "Epoch [63/300], Step [600/600], d_loss: 0.0000, g_loss: 1.0000, D(x): 1.00, D(G(z)): 0.00\n",
      "Saving fake_images-0064.png\n",
      "Epoch [64/300], Step [200/600], d_loss: 0.0000, g_loss: 1.0000, D(x): 1.00, D(G(z)): 0.00\n",
      "Epoch [64/300], Step [400/600], d_loss: 0.0000, g_loss: 1.0000, D(x): 1.00, D(G(z)): 0.00\n",
      "Epoch [64/300], Step [600/600], d_loss: 0.0000, g_loss: 1.0000, D(x): 1.00, D(G(z)): 0.00\n",
      "Saving fake_images-0065.png\n",
      "Epoch [65/300], Step [200/600], d_loss: 0.0000, g_loss: 1.0000, D(x): 1.00, D(G(z)): 0.00\n",
      "Epoch [65/300], Step [400/600], d_loss: 0.0000, g_loss: 1.0000, D(x): 1.00, D(G(z)): 0.00\n",
      "Epoch [65/300], Step [600/600], d_loss: 0.0000, g_loss: 1.0000, D(x): 1.00, D(G(z)): 0.00\n",
      "Saving fake_images-0066.png\n",
      "Epoch [66/300], Step [200/600], d_loss: 0.0000, g_loss: 1.0000, D(x): 1.00, D(G(z)): 0.00\n",
      "Epoch [66/300], Step [400/600], d_loss: 0.0000, g_loss: 1.0000, D(x): 1.00, D(G(z)): 0.00\n",
      "Epoch [66/300], Step [600/600], d_loss: 0.0000, g_loss: 1.0000, D(x): 1.00, D(G(z)): 0.00\n",
      "Saving fake_images-0067.png\n",
      "Epoch [67/300], Step [200/600], d_loss: 0.0000, g_loss: 1.0000, D(x): 1.00, D(G(z)): 0.00\n",
      "Epoch [67/300], Step [400/600], d_loss: 0.0000, g_loss: 1.0000, D(x): 1.00, D(G(z)): 0.00\n",
      "Epoch [67/300], Step [600/600], d_loss: 0.0000, g_loss: 1.0000, D(x): 1.00, D(G(z)): 0.00\n",
      "Saving fake_images-0068.png\n",
      "Epoch [68/300], Step [200/600], d_loss: 0.0000, g_loss: 1.0000, D(x): 1.00, D(G(z)): 0.00\n",
      "Epoch [68/300], Step [400/600], d_loss: 0.2462, g_loss: 0.9953, D(x): 0.86, D(G(z)): 0.17\n",
      "Epoch [68/300], Step [600/600], d_loss: 0.0000, g_loss: 1.0000, D(x): 1.00, D(G(z)): 0.00\n",
      "Saving fake_images-0069.png\n",
      "Epoch [69/300], Step [200/600], d_loss: 0.0000, g_loss: 1.0000, D(x): 1.00, D(G(z)): 0.00\n",
      "Epoch [69/300], Step [400/600], d_loss: 0.0000, g_loss: 1.0000, D(x): 1.00, D(G(z)): 0.00\n",
      "Epoch [69/300], Step [600/600], d_loss: 0.0000, g_loss: 1.0000, D(x): 1.00, D(G(z)): 0.00\n",
      "Saving fake_images-0070.png\n",
      "Epoch [70/300], Step [200/600], d_loss: 0.0000, g_loss: 1.0000, D(x): 1.00, D(G(z)): 0.00\n",
      "Epoch [70/300], Step [400/600], d_loss: 0.0000, g_loss: 1.0000, D(x): 1.00, D(G(z)): 0.00\n",
      "Epoch [70/300], Step [600/600], d_loss: 0.0000, g_loss: 1.0000, D(x): 1.00, D(G(z)): 0.00\n",
      "Saving fake_images-0071.png\n",
      "Epoch [71/300], Step [200/600], d_loss: 0.0000, g_loss: 1.0000, D(x): 1.00, D(G(z)): 0.00\n",
      "Epoch [71/300], Step [400/600], d_loss: 0.0000, g_loss: 1.0000, D(x): 1.00, D(G(z)): 0.00\n",
      "Epoch [71/300], Step [600/600], d_loss: 0.0000, g_loss: 1.0000, D(x): 1.00, D(G(z)): 0.00\n",
      "Saving fake_images-0072.png\n",
      "Epoch [72/300], Step [200/600], d_loss: 0.0000, g_loss: 1.0000, D(x): 1.00, D(G(z)): 0.00\n",
      "Epoch [72/300], Step [400/600], d_loss: 0.0000, g_loss: 1.0000, D(x): 1.00, D(G(z)): 0.00\n",
      "Epoch [72/300], Step [600/600], d_loss: 0.0000, g_loss: 1.0000, D(x): 1.00, D(G(z)): 0.00\n",
      "Saving fake_images-0073.png\n",
      "Epoch [73/300], Step [200/600], d_loss: 0.0000, g_loss: 1.0000, D(x): 1.00, D(G(z)): 0.00\n",
      "Epoch [73/300], Step [400/600], d_loss: 0.0000, g_loss: 1.0000, D(x): 1.00, D(G(z)): 0.00\n",
      "Epoch [73/300], Step [600/600], d_loss: 0.0000, g_loss: 1.0000, D(x): 1.00, D(G(z)): 0.00\n",
      "Saving fake_images-0074.png\n",
      "Epoch [74/300], Step [200/600], d_loss: 0.0000, g_loss: 1.0000, D(x): 1.00, D(G(z)): 0.00\n",
      "Epoch [74/300], Step [400/600], d_loss: 0.0000, g_loss: 1.0000, D(x): 1.00, D(G(z)): 0.00\n",
      "Epoch [74/300], Step [600/600], d_loss: 0.0000, g_loss: 1.0000, D(x): 1.00, D(G(z)): 0.00\n",
      "Saving fake_images-0075.png\n",
      "Epoch [75/300], Step [200/600], d_loss: 0.0000, g_loss: 1.0000, D(x): 1.00, D(G(z)): 0.00\n",
      "Epoch [75/300], Step [400/600], d_loss: 0.0000, g_loss: 1.0000, D(x): 1.00, D(G(z)): 0.00\n",
      "Epoch [75/300], Step [600/600], d_loss: 0.0000, g_loss: 1.0000, D(x): 1.00, D(G(z)): 0.00\n",
      "Saving fake_images-0076.png\n",
      "Epoch [76/300], Step [200/600], d_loss: 0.0000, g_loss: 1.0000, D(x): 1.00, D(G(z)): 0.00\n",
      "Epoch [76/300], Step [400/600], d_loss: 0.0000, g_loss: 1.0000, D(x): 1.00, D(G(z)): 0.00\n",
      "Epoch [76/300], Step [600/600], d_loss: 0.0000, g_loss: 1.0000, D(x): 1.00, D(G(z)): 0.00\n",
      "Saving fake_images-0077.png\n",
      "Epoch [77/300], Step [200/600], d_loss: 0.0000, g_loss: 1.0000, D(x): 1.00, D(G(z)): 0.00\n",
      "Epoch [77/300], Step [400/600], d_loss: 0.0000, g_loss: 1.0000, D(x): 1.00, D(G(z)): 0.00\n",
      "Epoch [77/300], Step [600/600], d_loss: 0.0000, g_loss: 1.0000, D(x): 1.00, D(G(z)): 0.00\n",
      "Saving fake_images-0078.png\n",
      "Epoch [78/300], Step [200/600], d_loss: 0.0000, g_loss: 1.0000, D(x): 1.00, D(G(z)): 0.00\n",
      "Epoch [78/300], Step [400/600], d_loss: 0.0000, g_loss: 1.0000, D(x): 1.00, D(G(z)): 0.00\n",
      "Epoch [78/300], Step [600/600], d_loss: 0.0000, g_loss: 1.0000, D(x): 1.00, D(G(z)): 0.00\n",
      "Saving fake_images-0079.png\n",
      "Epoch [79/300], Step [200/600], d_loss: 0.0000, g_loss: 1.0000, D(x): 1.00, D(G(z)): 0.00\n",
      "Epoch [79/300], Step [400/600], d_loss: 0.0000, g_loss: 1.0000, D(x): 1.00, D(G(z)): 0.00\n",
      "Epoch [79/300], Step [600/600], d_loss: 0.0000, g_loss: 1.0000, D(x): 1.00, D(G(z)): 0.00\n",
      "Saving fake_images-0080.png\n",
      "Epoch [80/300], Step [200/600], d_loss: 0.0000, g_loss: 1.0000, D(x): 1.00, D(G(z)): 0.00\n",
      "Epoch [80/300], Step [400/600], d_loss: 0.0000, g_loss: 1.0000, D(x): 1.00, D(G(z)): 0.00\n",
      "Epoch [80/300], Step [600/600], d_loss: 0.0000, g_loss: 1.0000, D(x): 1.00, D(G(z)): 0.00\n",
      "Saving fake_images-0081.png\n",
      "Epoch [81/300], Step [200/600], d_loss: 0.0000, g_loss: 1.0000, D(x): 1.00, D(G(z)): 0.00\n",
      "Epoch [81/300], Step [400/600], d_loss: 0.0000, g_loss: 1.0000, D(x): 1.00, D(G(z)): 0.00\n",
      "Epoch [81/300], Step [600/600], d_loss: 0.0000, g_loss: 1.0000, D(x): 1.00, D(G(z)): 0.00\n",
      "Saving fake_images-0082.png\n",
      "Epoch [82/300], Step [200/600], d_loss: 0.0000, g_loss: 1.0000, D(x): 1.00, D(G(z)): 0.00\n",
      "Epoch [82/300], Step [400/600], d_loss: 0.0000, g_loss: 1.0000, D(x): 1.00, D(G(z)): 0.00\n",
      "Epoch [82/300], Step [600/600], d_loss: 0.0000, g_loss: 1.0000, D(x): 1.00, D(G(z)): 0.00\n",
      "Saving fake_images-0083.png\n",
      "Epoch [83/300], Step [200/600], d_loss: 0.0000, g_loss: 1.0000, D(x): 1.00, D(G(z)): 0.00\n",
      "Epoch [83/300], Step [400/600], d_loss: 0.0000, g_loss: 1.0000, D(x): 1.00, D(G(z)): 0.00\n",
      "Epoch [83/300], Step [600/600], d_loss: 0.0000, g_loss: 1.0000, D(x): 1.00, D(G(z)): 0.00\n",
      "Saving fake_images-0084.png\n",
      "Epoch [84/300], Step [200/600], d_loss: 0.0000, g_loss: 1.0000, D(x): 1.00, D(G(z)): 0.00\n",
      "Epoch [84/300], Step [400/600], d_loss: 0.0000, g_loss: 1.0000, D(x): 1.00, D(G(z)): 0.00\n",
      "Epoch [84/300], Step [600/600], d_loss: 0.0000, g_loss: 1.0000, D(x): 1.00, D(G(z)): 0.00\n",
      "Saving fake_images-0085.png\n",
      "Epoch [85/300], Step [200/600], d_loss: 0.0000, g_loss: 1.0000, D(x): 1.00, D(G(z)): 0.00\n",
      "Epoch [85/300], Step [400/600], d_loss: 0.0000, g_loss: 1.0000, D(x): 1.00, D(G(z)): 0.00\n",
      "Epoch [85/300], Step [600/600], d_loss: 0.0000, g_loss: 1.0000, D(x): 1.00, D(G(z)): 0.00\n",
      "Saving fake_images-0086.png\n",
      "Epoch [86/300], Step [200/600], d_loss: 0.0000, g_loss: 1.0000, D(x): 1.00, D(G(z)): 0.00\n",
      "Epoch [86/300], Step [400/600], d_loss: 0.0000, g_loss: 1.0000, D(x): 1.00, D(G(z)): 0.00\n",
      "Epoch [86/300], Step [600/600], d_loss: 0.0000, g_loss: 1.0000, D(x): 1.00, D(G(z)): 0.00\n",
      "Saving fake_images-0087.png\n",
      "Epoch [87/300], Step [200/600], d_loss: 0.0000, g_loss: 1.0000, D(x): 1.00, D(G(z)): 0.00\n",
      "Epoch [87/300], Step [400/600], d_loss: 0.0000, g_loss: 1.0000, D(x): 1.00, D(G(z)): 0.00\n",
      "Epoch [87/300], Step [600/600], d_loss: 0.0000, g_loss: 1.0000, D(x): 1.00, D(G(z)): 0.00\n",
      "Saving fake_images-0088.png\n",
      "Epoch [88/300], Step [200/600], d_loss: 0.0000, g_loss: 1.0000, D(x): 1.00, D(G(z)): 0.00\n",
      "Epoch [88/300], Step [400/600], d_loss: 0.0000, g_loss: 1.0000, D(x): 1.00, D(G(z)): 0.00\n",
      "Epoch [88/300], Step [600/600], d_loss: 0.0000, g_loss: 1.0000, D(x): 1.00, D(G(z)): 0.00\n",
      "Saving fake_images-0089.png\n",
      "Epoch [89/300], Step [200/600], d_loss: 0.0000, g_loss: 1.0000, D(x): 1.00, D(G(z)): 0.00\n",
      "Epoch [89/300], Step [400/600], d_loss: 0.0000, g_loss: 1.0000, D(x): 1.00, D(G(z)): 0.00\n",
      "Epoch [89/300], Step [600/600], d_loss: 0.0000, g_loss: 1.0000, D(x): 1.00, D(G(z)): 0.00\n",
      "Saving fake_images-0090.png\n",
      "Epoch [90/300], Step [200/600], d_loss: 0.0000, g_loss: 1.0000, D(x): 1.00, D(G(z)): 0.00\n",
      "Epoch [90/300], Step [400/600], d_loss: 0.0000, g_loss: 1.0000, D(x): 1.00, D(G(z)): 0.00\n",
      "Epoch [90/300], Step [600/600], d_loss: 0.0000, g_loss: 1.0000, D(x): 1.00, D(G(z)): 0.00\n",
      "Saving fake_images-0091.png\n",
      "Epoch [91/300], Step [200/600], d_loss: 0.0000, g_loss: 1.0000, D(x): 1.00, D(G(z)): 0.00\n",
      "Epoch [91/300], Step [400/600], d_loss: 0.0000, g_loss: 1.0000, D(x): 1.00, D(G(z)): 0.00\n",
      "Epoch [91/300], Step [600/600], d_loss: 0.0000, g_loss: 1.0000, D(x): 1.00, D(G(z)): 0.00\n",
      "Saving fake_images-0092.png\n",
      "Epoch [92/300], Step [200/600], d_loss: 0.0000, g_loss: 1.0000, D(x): 1.00, D(G(z)): 0.00\n",
      "Epoch [92/300], Step [400/600], d_loss: 0.0000, g_loss: 1.0000, D(x): 1.00, D(G(z)): 0.00\n",
      "Epoch [92/300], Step [600/600], d_loss: 0.0000, g_loss: 1.0000, D(x): 1.00, D(G(z)): 0.00\n",
      "Saving fake_images-0093.png\n",
      "Epoch [93/300], Step [200/600], d_loss: 0.0000, g_loss: 1.0000, D(x): 1.00, D(G(z)): 0.00\n",
      "Epoch [93/300], Step [400/600], d_loss: 0.0000, g_loss: 1.0000, D(x): 1.00, D(G(z)): 0.00\n",
      "Epoch [93/300], Step [600/600], d_loss: 0.0000, g_loss: 1.0000, D(x): 1.00, D(G(z)): 0.00\n",
      "Saving fake_images-0094.png\n",
      "Epoch [94/300], Step [200/600], d_loss: 0.0000, g_loss: 1.0000, D(x): 1.00, D(G(z)): 0.00\n",
      "Epoch [94/300], Step [400/600], d_loss: 0.0000, g_loss: 1.0000, D(x): 1.00, D(G(z)): 0.00\n",
      "Epoch [94/300], Step [600/600], d_loss: 0.0000, g_loss: 1.0000, D(x): 1.00, D(G(z)): 0.00\n",
      "Saving fake_images-0095.png\n",
      "Epoch [95/300], Step [200/600], d_loss: 0.0000, g_loss: 1.0000, D(x): 1.00, D(G(z)): 0.00\n",
      "Epoch [95/300], Step [400/600], d_loss: 0.0000, g_loss: 1.0000, D(x): 1.00, D(G(z)): 0.00\n",
      "Epoch [95/300], Step [600/600], d_loss: 0.0000, g_loss: 1.0000, D(x): 1.00, D(G(z)): 0.00\n",
      "Saving fake_images-0096.png\n",
      "Epoch [96/300], Step [200/600], d_loss: 0.0000, g_loss: 1.0000, D(x): 1.00, D(G(z)): 0.00\n",
      "Epoch [96/300], Step [400/600], d_loss: 0.0000, g_loss: 1.0000, D(x): 1.00, D(G(z)): 0.00\n",
      "Epoch [96/300], Step [600/600], d_loss: 0.0000, g_loss: 1.0000, D(x): 1.00, D(G(z)): 0.00\n",
      "Saving fake_images-0097.png\n",
      "Epoch [97/300], Step [200/600], d_loss: 0.0000, g_loss: 1.0000, D(x): 1.00, D(G(z)): 0.00\n",
      "Epoch [97/300], Step [400/600], d_loss: 0.0000, g_loss: 1.0000, D(x): 1.00, D(G(z)): 0.00\n",
      "Epoch [97/300], Step [600/600], d_loss: 0.0000, g_loss: 1.0000, D(x): 1.00, D(G(z)): 0.00\n",
      "Saving fake_images-0098.png\n",
      "Epoch [98/300], Step [200/600], d_loss: 0.0000, g_loss: 1.0000, D(x): 1.00, D(G(z)): 0.00\n",
      "Epoch [98/300], Step [400/600], d_loss: 0.0000, g_loss: 1.0000, D(x): 1.00, D(G(z)): 0.00\n",
      "Epoch [98/300], Step [600/600], d_loss: 0.0000, g_loss: 1.0000, D(x): 1.00, D(G(z)): 0.00\n",
      "Saving fake_images-0099.png\n",
      "Epoch [99/300], Step [200/600], d_loss: 0.0000, g_loss: 1.0000, D(x): 1.00, D(G(z)): 0.00\n",
      "Epoch [99/300], Step [400/600], d_loss: 0.0000, g_loss: 1.0000, D(x): 1.00, D(G(z)): 0.00\n",
      "Epoch [99/300], Step [600/600], d_loss: 0.0000, g_loss: 1.0000, D(x): 1.00, D(G(z)): 0.00\n",
      "Saving fake_images-0100.png\n",
      "Epoch [100/300], Step [200/600], d_loss: 0.0000, g_loss: 1.0000, D(x): 1.00, D(G(z)): 0.00\n",
      "Epoch [100/300], Step [400/600], d_loss: 0.0000, g_loss: 1.0000, D(x): 1.00, D(G(z)): 0.00\n",
      "Epoch [100/300], Step [600/600], d_loss: 0.0000, g_loss: 1.0000, D(x): 1.00, D(G(z)): 0.00\n",
      "Saving fake_images-0101.png\n",
      "Epoch [101/300], Step [200/600], d_loss: 0.0000, g_loss: 1.0000, D(x): 1.00, D(G(z)): 0.00\n",
      "Epoch [101/300], Step [400/600], d_loss: 0.0000, g_loss: 1.0000, D(x): 1.00, D(G(z)): 0.00\n",
      "Epoch [101/300], Step [600/600], d_loss: 0.0000, g_loss: 1.0000, D(x): 1.00, D(G(z)): 0.00\n",
      "Saving fake_images-0102.png\n",
      "Epoch [102/300], Step [200/600], d_loss: 0.0000, g_loss: 1.0000, D(x): 1.00, D(G(z)): 0.00\n",
      "Epoch [102/300], Step [400/600], d_loss: 0.0000, g_loss: 1.0000, D(x): 1.00, D(G(z)): 0.00\n",
      "Epoch [102/300], Step [600/600], d_loss: 0.0000, g_loss: 1.0000, D(x): 1.00, D(G(z)): 0.00\n",
      "Saving fake_images-0103.png\n",
      "Epoch [103/300], Step [200/600], d_loss: 0.0000, g_loss: 1.0000, D(x): 1.00, D(G(z)): 0.00\n",
      "Epoch [103/300], Step [400/600], d_loss: 0.0000, g_loss: 1.0000, D(x): 1.00, D(G(z)): 0.00\n",
      "Epoch [103/300], Step [600/600], d_loss: 0.0000, g_loss: 1.0000, D(x): 1.00, D(G(z)): 0.00\n",
      "Saving fake_images-0104.png\n",
      "Epoch [104/300], Step [200/600], d_loss: 0.0000, g_loss: 1.0000, D(x): 1.00, D(G(z)): 0.00\n",
      "Epoch [104/300], Step [400/600], d_loss: 0.0000, g_loss: 1.0000, D(x): 1.00, D(G(z)): 0.00\n",
      "Epoch [104/300], Step [600/600], d_loss: 0.0000, g_loss: 1.0000, D(x): 1.00, D(G(z)): 0.00\n",
      "Saving fake_images-0105.png\n",
      "Epoch [105/300], Step [200/600], d_loss: 0.0000, g_loss: 1.0000, D(x): 1.00, D(G(z)): 0.00\n",
      "Epoch [105/300], Step [400/600], d_loss: 0.0000, g_loss: 1.0000, D(x): 1.00, D(G(z)): 0.00\n",
      "Epoch [105/300], Step [600/600], d_loss: 0.0000, g_loss: 1.0000, D(x): 1.00, D(G(z)): 0.00\n",
      "Saving fake_images-0106.png\n",
      "Epoch [106/300], Step [200/600], d_loss: 0.0000, g_loss: 1.0000, D(x): 1.00, D(G(z)): 0.00\n",
      "Epoch [106/300], Step [400/600], d_loss: 0.0000, g_loss: 1.0000, D(x): 1.00, D(G(z)): 0.00\n",
      "Epoch [106/300], Step [600/600], d_loss: 0.0000, g_loss: 1.0000, D(x): 1.00, D(G(z)): 0.00\n",
      "Saving fake_images-0107.png\n",
      "Epoch [107/300], Step [200/600], d_loss: 0.0000, g_loss: 1.0000, D(x): 1.00, D(G(z)): 0.00\n",
      "Epoch [107/300], Step [400/600], d_loss: 0.0000, g_loss: 1.0000, D(x): 1.00, D(G(z)): 0.00\n",
      "Epoch [107/300], Step [600/600], d_loss: 0.0000, g_loss: 1.0000, D(x): 1.00, D(G(z)): 0.00\n",
      "Saving fake_images-0108.png\n",
      "Epoch [108/300], Step [200/600], d_loss: 0.0000, g_loss: 1.0000, D(x): 1.00, D(G(z)): 0.00\n",
      "Epoch [108/300], Step [400/600], d_loss: 0.0000, g_loss: 1.0000, D(x): 1.00, D(G(z)): 0.00\n",
      "Epoch [108/300], Step [600/600], d_loss: 0.0000, g_loss: 1.0000, D(x): 1.00, D(G(z)): 0.00\n",
      "Saving fake_images-0109.png\n",
      "Epoch [109/300], Step [200/600], d_loss: 0.0000, g_loss: 1.0000, D(x): 1.00, D(G(z)): 0.00\n",
      "Epoch [109/300], Step [400/600], d_loss: 0.0000, g_loss: 1.0000, D(x): 1.00, D(G(z)): 0.00\n",
      "Epoch [109/300], Step [600/600], d_loss: 0.0000, g_loss: 1.0000, D(x): 1.00, D(G(z)): 0.00\n",
      "Saving fake_images-0110.png\n",
      "Epoch [110/300], Step [200/600], d_loss: 0.0000, g_loss: 1.0000, D(x): 1.00, D(G(z)): 0.00\n",
      "Epoch [110/300], Step [400/600], d_loss: 0.0000, g_loss: 1.0000, D(x): 1.00, D(G(z)): 0.00\n",
      "Epoch [110/300], Step [600/600], d_loss: 0.0000, g_loss: 1.0000, D(x): 1.00, D(G(z)): 0.00\n",
      "Saving fake_images-0111.png\n",
      "Epoch [111/300], Step [200/600], d_loss: 0.0000, g_loss: 1.0000, D(x): 1.00, D(G(z)): 0.00\n",
      "Epoch [111/300], Step [400/600], d_loss: 0.0000, g_loss: 1.0000, D(x): 1.00, D(G(z)): 0.00\n",
      "Epoch [111/300], Step [600/600], d_loss: 0.0000, g_loss: 1.0000, D(x): 1.00, D(G(z)): 0.00\n",
      "Saving fake_images-0112.png\n",
      "Epoch [112/300], Step [200/600], d_loss: 0.0000, g_loss: 1.0000, D(x): 1.00, D(G(z)): 0.00\n",
      "Epoch [112/300], Step [400/600], d_loss: 0.0000, g_loss: 1.0000, D(x): 1.00, D(G(z)): 0.00\n",
      "Epoch [112/300], Step [600/600], d_loss: 0.0000, g_loss: 1.0000, D(x): 1.00, D(G(z)): 0.00\n",
      "Saving fake_images-0113.png\n",
      "Epoch [113/300], Step [200/600], d_loss: 0.0000, g_loss: 1.0000, D(x): 1.00, D(G(z)): 0.00\n",
      "Epoch [113/300], Step [400/600], d_loss: 0.0000, g_loss: 1.0000, D(x): 1.00, D(G(z)): 0.00\n",
      "Epoch [113/300], Step [600/600], d_loss: 0.0000, g_loss: 1.0000, D(x): 1.00, D(G(z)): 0.00\n",
      "Saving fake_images-0114.png\n",
      "Epoch [114/300], Step [200/600], d_loss: 0.0000, g_loss: 1.0000, D(x): 1.00, D(G(z)): 0.00\n",
      "Epoch [114/300], Step [400/600], d_loss: 0.0000, g_loss: 1.0000, D(x): 1.00, D(G(z)): 0.00\n",
      "Epoch [114/300], Step [600/600], d_loss: 0.0000, g_loss: 1.0000, D(x): 1.00, D(G(z)): 0.00\n",
      "Saving fake_images-0115.png\n",
      "Epoch [115/300], Step [200/600], d_loss: 0.0000, g_loss: 1.0000, D(x): 1.00, D(G(z)): 0.00\n",
      "Epoch [115/300], Step [400/600], d_loss: 0.0000, g_loss: 1.0000, D(x): 1.00, D(G(z)): 0.00\n",
      "Epoch [115/300], Step [600/600], d_loss: 0.0000, g_loss: 1.0000, D(x): 1.00, D(G(z)): 0.00\n",
      "Saving fake_images-0116.png\n",
      "Epoch [116/300], Step [200/600], d_loss: 0.0000, g_loss: 1.0000, D(x): 1.00, D(G(z)): 0.00\n",
      "Epoch [116/300], Step [400/600], d_loss: 0.0000, g_loss: 1.0000, D(x): 1.00, D(G(z)): 0.00\n",
      "Epoch [116/300], Step [600/600], d_loss: 0.0000, g_loss: 1.0000, D(x): 1.00, D(G(z)): 0.00\n",
      "Saving fake_images-0117.png\n",
      "Epoch [117/300], Step [200/600], d_loss: 0.0000, g_loss: 1.0000, D(x): 1.00, D(G(z)): 0.00\n",
      "Epoch [117/300], Step [400/600], d_loss: 0.0000, g_loss: 1.0000, D(x): 1.00, D(G(z)): 0.00\n",
      "Epoch [117/300], Step [600/600], d_loss: 0.0000, g_loss: 1.0000, D(x): 1.00, D(G(z)): 0.00\n",
      "Saving fake_images-0118.png\n",
      "Epoch [118/300], Step [200/600], d_loss: 0.0000, g_loss: 1.0000, D(x): 1.00, D(G(z)): 0.00\n",
      "Epoch [118/300], Step [400/600], d_loss: 0.0000, g_loss: 1.0000, D(x): 1.00, D(G(z)): 0.00\n",
      "Epoch [118/300], Step [600/600], d_loss: 0.0000, g_loss: 1.0000, D(x): 1.00, D(G(z)): 0.00\n",
      "Saving fake_images-0119.png\n",
      "Epoch [119/300], Step [200/600], d_loss: 0.0000, g_loss: 1.0000, D(x): 1.00, D(G(z)): 0.00\n",
      "Epoch [119/300], Step [400/600], d_loss: 0.0000, g_loss: 1.0000, D(x): 1.00, D(G(z)): 0.00\n",
      "Epoch [119/300], Step [600/600], d_loss: 0.0000, g_loss: 1.0000, D(x): 1.00, D(G(z)): 0.00\n",
      "Saving fake_images-0120.png\n",
      "Epoch [120/300], Step [200/600], d_loss: 0.0000, g_loss: 1.0000, D(x): 1.00, D(G(z)): 0.00\n",
      "Epoch [120/300], Step [400/600], d_loss: 0.0000, g_loss: 1.0000, D(x): 1.00, D(G(z)): 0.00\n",
      "Epoch [120/300], Step [600/600], d_loss: 0.0000, g_loss: 1.0000, D(x): 1.00, D(G(z)): 0.00\n",
      "Saving fake_images-0121.png\n",
      "Epoch [121/300], Step [200/600], d_loss: 0.0000, g_loss: 1.0000, D(x): 1.00, D(G(z)): 0.00\n",
      "Epoch [121/300], Step [400/600], d_loss: 0.0000, g_loss: 1.0000, D(x): 1.00, D(G(z)): 0.00\n",
      "Epoch [121/300], Step [600/600], d_loss: 0.0000, g_loss: 1.0000, D(x): 1.00, D(G(z)): 0.00\n",
      "Saving fake_images-0122.png\n",
      "Epoch [122/300], Step [200/600], d_loss: 0.0000, g_loss: 1.0000, D(x): 1.00, D(G(z)): 0.00\n",
      "Epoch [122/300], Step [400/600], d_loss: 0.0000, g_loss: 1.0000, D(x): 1.00, D(G(z)): 0.00\n",
      "Epoch [122/300], Step [600/600], d_loss: 0.0000, g_loss: 1.0000, D(x): 1.00, D(G(z)): 0.00\n",
      "Saving fake_images-0123.png\n",
      "Epoch [123/300], Step [200/600], d_loss: 0.0000, g_loss: 1.0000, D(x): 1.00, D(G(z)): 0.00\n",
      "Epoch [123/300], Step [400/600], d_loss: 0.0000, g_loss: 1.0000, D(x): 1.00, D(G(z)): 0.00\n",
      "Epoch [123/300], Step [600/600], d_loss: 0.0000, g_loss: 1.0000, D(x): 1.00, D(G(z)): 0.00\n",
      "Saving fake_images-0124.png\n",
      "Epoch [124/300], Step [200/600], d_loss: 0.0000, g_loss: 1.0000, D(x): 1.00, D(G(z)): 0.00\n",
      "Epoch [124/300], Step [400/600], d_loss: 0.0000, g_loss: 1.0000, D(x): 1.00, D(G(z)): 0.00\n",
      "Epoch [124/300], Step [600/600], d_loss: 0.0000, g_loss: 1.0000, D(x): 1.00, D(G(z)): 0.00\n",
      "Saving fake_images-0125.png\n",
      "Epoch [125/300], Step [200/600], d_loss: 0.0000, g_loss: 1.0000, D(x): 1.00, D(G(z)): 0.00\n",
      "Epoch [125/300], Step [400/600], d_loss: 0.0000, g_loss: 1.0000, D(x): 1.00, D(G(z)): 0.00\n",
      "Epoch [125/300], Step [600/600], d_loss: 0.0000, g_loss: 1.0000, D(x): 1.00, D(G(z)): 0.00\n",
      "Saving fake_images-0126.png\n",
      "Epoch [126/300], Step [200/600], d_loss: 0.0000, g_loss: 1.0000, D(x): 1.00, D(G(z)): 0.00\n",
      "Epoch [126/300], Step [400/600], d_loss: 0.0000, g_loss: 1.0000, D(x): 1.00, D(G(z)): 0.00\n",
      "Epoch [126/300], Step [600/600], d_loss: 0.0000, g_loss: 1.0000, D(x): 1.00, D(G(z)): 0.00\n",
      "Saving fake_images-0127.png\n",
      "Epoch [127/300], Step [200/600], d_loss: 0.0000, g_loss: 1.0000, D(x): 1.00, D(G(z)): 0.00\n",
      "Epoch [127/300], Step [400/600], d_loss: 0.0000, g_loss: 1.0000, D(x): 1.00, D(G(z)): 0.00\n",
      "Epoch [127/300], Step [600/600], d_loss: 0.0000, g_loss: 1.0000, D(x): 1.00, D(G(z)): 0.00\n",
      "Saving fake_images-0128.png\n",
      "Epoch [128/300], Step [200/600], d_loss: 0.0000, g_loss: 1.0000, D(x): 1.00, D(G(z)): 0.00\n",
      "Epoch [128/300], Step [400/600], d_loss: 0.0000, g_loss: 1.0000, D(x): 1.00, D(G(z)): 0.00\n",
      "Epoch [128/300], Step [600/600], d_loss: 0.0000, g_loss: 1.0000, D(x): 1.00, D(G(z)): 0.00\n",
      "Saving fake_images-0129.png\n",
      "Epoch [129/300], Step [200/600], d_loss: 0.0000, g_loss: 1.0000, D(x): 1.00, D(G(z)): 0.00\n",
      "Epoch [129/300], Step [400/600], d_loss: 0.0000, g_loss: 1.0000, D(x): 1.00, D(G(z)): 0.00\n",
      "Epoch [129/300], Step [600/600], d_loss: 0.0000, g_loss: 1.0000, D(x): 1.00, D(G(z)): 0.00\n",
      "Saving fake_images-0130.png\n",
      "Epoch [130/300], Step [200/600], d_loss: 0.0000, g_loss: 1.0000, D(x): 1.00, D(G(z)): 0.00\n",
      "Epoch [130/300], Step [400/600], d_loss: 0.0000, g_loss: 1.0000, D(x): 1.00, D(G(z)): 0.00\n",
      "Epoch [130/300], Step [600/600], d_loss: 0.0000, g_loss: 1.0000, D(x): 1.00, D(G(z)): 0.00\n",
      "Saving fake_images-0131.png\n",
      "Epoch [131/300], Step [200/600], d_loss: 0.0000, g_loss: 1.0000, D(x): 1.00, D(G(z)): 0.00\n",
      "Epoch [131/300], Step [400/600], d_loss: 0.0000, g_loss: 1.0000, D(x): 1.00, D(G(z)): 0.00\n",
      "Epoch [131/300], Step [600/600], d_loss: 0.0000, g_loss: 1.0000, D(x): 1.00, D(G(z)): 0.00\n",
      "Saving fake_images-0132.png\n",
      "Epoch [132/300], Step [200/600], d_loss: 0.0000, g_loss: 1.0000, D(x): 1.00, D(G(z)): 0.00\n",
      "Epoch [132/300], Step [400/600], d_loss: 0.0000, g_loss: 1.0000, D(x): 1.00, D(G(z)): 0.00\n",
      "Epoch [132/300], Step [600/600], d_loss: 0.0000, g_loss: 1.0000, D(x): 1.00, D(G(z)): 0.00\n",
      "Saving fake_images-0133.png\n",
      "Epoch [133/300], Step [200/600], d_loss: 0.0000, g_loss: 1.0000, D(x): 1.00, D(G(z)): 0.00\n",
      "Epoch [133/300], Step [400/600], d_loss: 0.0000, g_loss: 1.0000, D(x): 1.00, D(G(z)): 0.00\n",
      "Epoch [133/300], Step [600/600], d_loss: 0.0000, g_loss: 1.0000, D(x): 1.00, D(G(z)): 0.00\n",
      "Saving fake_images-0134.png\n",
      "Epoch [134/300], Step [200/600], d_loss: 0.0000, g_loss: 1.0000, D(x): 1.00, D(G(z)): 0.00\n",
      "Epoch [134/300], Step [400/600], d_loss: 0.0000, g_loss: 1.0000, D(x): 1.00, D(G(z)): 0.00\n",
      "Epoch [134/300], Step [600/600], d_loss: 0.0000, g_loss: 1.0000, D(x): 1.00, D(G(z)): 0.00\n",
      "Saving fake_images-0135.png\n",
      "Epoch [135/300], Step [200/600], d_loss: 0.0000, g_loss: 1.0000, D(x): 1.00, D(G(z)): 0.00\n",
      "Epoch [135/300], Step [400/600], d_loss: 0.0000, g_loss: 1.0000, D(x): 1.00, D(G(z)): 0.00\n",
      "Epoch [135/300], Step [600/600], d_loss: 0.0000, g_loss: 1.0000, D(x): 1.00, D(G(z)): 0.00\n",
      "Saving fake_images-0136.png\n",
      "Epoch [136/300], Step [200/600], d_loss: 0.0000, g_loss: 1.0000, D(x): 1.00, D(G(z)): 0.00\n",
      "Epoch [136/300], Step [400/600], d_loss: 0.0000, g_loss: 1.0000, D(x): 1.00, D(G(z)): 0.00\n",
      "Epoch [136/300], Step [600/600], d_loss: 0.0000, g_loss: 1.0000, D(x): 1.00, D(G(z)): 0.00\n",
      "Saving fake_images-0137.png\n",
      "Epoch [137/300], Step [200/600], d_loss: 0.0000, g_loss: 1.0000, D(x): 1.00, D(G(z)): 0.00\n",
      "Epoch [137/300], Step [400/600], d_loss: 0.0000, g_loss: 1.0000, D(x): 1.00, D(G(z)): 0.00\n",
      "Epoch [137/300], Step [600/600], d_loss: 0.0000, g_loss: 1.0000, D(x): 1.00, D(G(z)): 0.00\n",
      "Saving fake_images-0138.png\n",
      "Epoch [138/300], Step [200/600], d_loss: 0.0000, g_loss: 1.0000, D(x): 1.00, D(G(z)): 0.00\n",
      "Epoch [138/300], Step [400/600], d_loss: 0.0000, g_loss: 1.0000, D(x): 1.00, D(G(z)): 0.00\n",
      "Epoch [138/300], Step [600/600], d_loss: 0.0000, g_loss: 1.0000, D(x): 1.00, D(G(z)): 0.00\n",
      "Saving fake_images-0139.png\n",
      "Epoch [139/300], Step [200/600], d_loss: 0.0000, g_loss: 1.0000, D(x): 1.00, D(G(z)): 0.00\n",
      "Epoch [139/300], Step [400/600], d_loss: 0.0000, g_loss: 1.0000, D(x): 1.00, D(G(z)): 0.00\n",
      "Epoch [139/300], Step [600/600], d_loss: 0.0000, g_loss: 1.0000, D(x): 1.00, D(G(z)): 0.00\n",
      "Saving fake_images-0140.png\n",
      "Epoch [140/300], Step [200/600], d_loss: 0.0000, g_loss: 1.0000, D(x): 1.00, D(G(z)): 0.00\n",
      "Epoch [140/300], Step [400/600], d_loss: 0.0000, g_loss: 1.0000, D(x): 1.00, D(G(z)): 0.00\n",
      "Epoch [140/300], Step [600/600], d_loss: 0.0000, g_loss: 1.0000, D(x): 1.00, D(G(z)): 0.00\n",
      "Saving fake_images-0141.png\n",
      "Epoch [141/300], Step [200/600], d_loss: 0.0000, g_loss: 1.0000, D(x): 1.00, D(G(z)): 0.00\n",
      "Epoch [141/300], Step [400/600], d_loss: 0.0000, g_loss: 1.0000, D(x): 1.00, D(G(z)): 0.00\n",
      "Epoch [141/300], Step [600/600], d_loss: 0.0000, g_loss: 1.0000, D(x): 1.00, D(G(z)): 0.00\n",
      "Saving fake_images-0142.png\n",
      "Epoch [142/300], Step [200/600], d_loss: 0.0000, g_loss: 1.0000, D(x): 1.00, D(G(z)): 0.00\n",
      "Epoch [142/300], Step [400/600], d_loss: 0.0000, g_loss: 1.0000, D(x): 1.00, D(G(z)): 0.00\n",
      "Epoch [142/300], Step [600/600], d_loss: 0.0000, g_loss: 1.0000, D(x): 1.00, D(G(z)): 0.00\n",
      "Saving fake_images-0143.png\n",
      "Epoch [143/300], Step [200/600], d_loss: 0.0000, g_loss: 1.0000, D(x): 1.00, D(G(z)): 0.00\n",
      "Epoch [143/300], Step [400/600], d_loss: 0.0000, g_loss: 1.0000, D(x): 1.00, D(G(z)): 0.00\n",
      "Epoch [143/300], Step [600/600], d_loss: 0.0000, g_loss: 1.0000, D(x): 1.00, D(G(z)): 0.00\n",
      "Saving fake_images-0144.png\n",
      "Epoch [144/300], Step [200/600], d_loss: 0.0000, g_loss: 1.0000, D(x): 1.00, D(G(z)): 0.00\n",
      "Epoch [144/300], Step [400/600], d_loss: 0.0000, g_loss: 1.0000, D(x): 1.00, D(G(z)): 0.00\n",
      "Epoch [144/300], Step [600/600], d_loss: 0.0000, g_loss: 1.0000, D(x): 1.00, D(G(z)): 0.00\n",
      "Saving fake_images-0145.png\n",
      "Epoch [145/300], Step [200/600], d_loss: 1.0000, g_loss: 0.0000, D(x): 1.00, D(G(z)): 1.00\n",
      "Epoch [145/300], Step [400/600], d_loss: 0.0000, g_loss: 1.0000, D(x): 1.00, D(G(z)): 0.00\n",
      "Epoch [145/300], Step [600/600], d_loss: 0.0000, g_loss: 1.0000, D(x): 1.00, D(G(z)): 0.00\n",
      "Saving fake_images-0146.png\n",
      "Epoch [146/300], Step [200/600], d_loss: 0.0000, g_loss: 1.0000, D(x): 1.00, D(G(z)): 0.00\n",
      "Epoch [146/300], Step [400/600], d_loss: 0.0000, g_loss: 1.0000, D(x): 1.00, D(G(z)): 0.00\n",
      "Epoch [146/300], Step [600/600], d_loss: 0.0000, g_loss: 1.0000, D(x): 1.00, D(G(z)): 0.00\n",
      "Saving fake_images-0147.png\n",
      "Epoch [147/300], Step [200/600], d_loss: 0.0000, g_loss: 1.0000, D(x): 1.00, D(G(z)): 0.00\n",
      "Epoch [147/300], Step [400/600], d_loss: 0.0000, g_loss: 1.0000, D(x): 1.00, D(G(z)): 0.00\n",
      "Epoch [147/300], Step [600/600], d_loss: 0.0000, g_loss: 1.0000, D(x): 1.00, D(G(z)): 0.00\n",
      "Saving fake_images-0148.png\n",
      "Epoch [148/300], Step [200/600], d_loss: 0.0000, g_loss: 1.0000, D(x): 1.00, D(G(z)): 0.00\n",
      "Epoch [148/300], Step [400/600], d_loss: 0.0000, g_loss: 1.0000, D(x): 1.00, D(G(z)): 0.00\n",
      "Epoch [148/300], Step [600/600], d_loss: 0.0000, g_loss: 1.0000, D(x): 1.00, D(G(z)): 0.00\n",
      "Saving fake_images-0149.png\n",
      "Epoch [149/300], Step [200/600], d_loss: 0.0000, g_loss: 1.0000, D(x): 1.00, D(G(z)): 0.00\n",
      "Epoch [149/300], Step [400/600], d_loss: 0.0000, g_loss: 1.0000, D(x): 1.00, D(G(z)): 0.00\n",
      "Epoch [149/300], Step [600/600], d_loss: 0.0000, g_loss: 1.0000, D(x): 1.00, D(G(z)): 0.00\n",
      "Saving fake_images-0150.png\n",
      "Epoch [150/300], Step [200/600], d_loss: 0.0000, g_loss: 1.0000, D(x): 1.00, D(G(z)): 0.00\n",
      "Epoch [150/300], Step [400/600], d_loss: 0.0000, g_loss: 1.0000, D(x): 1.00, D(G(z)): 0.00\n",
      "Epoch [150/300], Step [600/600], d_loss: 0.0000, g_loss: 1.0000, D(x): 1.00, D(G(z)): 0.00\n",
      "Saving fake_images-0151.png\n",
      "Epoch [151/300], Step [200/600], d_loss: 0.0000, g_loss: 1.0000, D(x): 1.00, D(G(z)): 0.00\n",
      "Epoch [151/300], Step [400/600], d_loss: 0.0000, g_loss: 1.0000, D(x): 1.00, D(G(z)): 0.00\n",
      "Epoch [151/300], Step [600/600], d_loss: 0.0000, g_loss: 1.0000, D(x): 1.00, D(G(z)): 0.00\n",
      "Saving fake_images-0152.png\n",
      "Epoch [152/300], Step [200/600], d_loss: 0.0000, g_loss: 1.0000, D(x): 1.00, D(G(z)): 0.00\n",
      "Epoch [152/300], Step [400/600], d_loss: 0.0000, g_loss: 1.0000, D(x): 1.00, D(G(z)): 0.00\n",
      "Epoch [152/300], Step [600/600], d_loss: 0.0000, g_loss: 1.0000, D(x): 1.00, D(G(z)): 0.00\n",
      "Saving fake_images-0153.png\n",
      "Epoch [153/300], Step [200/600], d_loss: 0.0000, g_loss: 1.0000, D(x): 1.00, D(G(z)): 0.00\n",
      "Epoch [153/300], Step [400/600], d_loss: 0.0000, g_loss: 1.0000, D(x): 1.00, D(G(z)): 0.00\n",
      "Epoch [153/300], Step [600/600], d_loss: 0.0000, g_loss: 1.0000, D(x): 1.00, D(G(z)): 0.00\n",
      "Saving fake_images-0154.png\n",
      "Epoch [154/300], Step [200/600], d_loss: 0.0000, g_loss: 1.0000, D(x): 1.00, D(G(z)): 0.00\n",
      "Epoch [154/300], Step [400/600], d_loss: 0.0000, g_loss: 1.0000, D(x): 1.00, D(G(z)): 0.00\n",
      "Epoch [154/300], Step [600/600], d_loss: 0.0000, g_loss: 1.0000, D(x): 1.00, D(G(z)): 0.00\n",
      "Saving fake_images-0155.png\n",
      "Epoch [155/300], Step [200/600], d_loss: 0.0000, g_loss: 1.0000, D(x): 1.00, D(G(z)): 0.00\n",
      "Epoch [155/300], Step [400/600], d_loss: 0.0000, g_loss: 1.0000, D(x): 1.00, D(G(z)): 0.00\n",
      "Epoch [155/300], Step [600/600], d_loss: 0.0000, g_loss: 1.0000, D(x): 1.00, D(G(z)): 0.00\n",
      "Saving fake_images-0156.png\n",
      "Epoch [156/300], Step [200/600], d_loss: 0.0000, g_loss: 1.0000, D(x): 1.00, D(G(z)): 0.00\n",
      "Epoch [156/300], Step [400/600], d_loss: 0.0000, g_loss: 1.0000, D(x): 1.00, D(G(z)): 0.00\n",
      "Epoch [156/300], Step [600/600], d_loss: 0.0000, g_loss: 1.0000, D(x): 1.00, D(G(z)): 0.00\n",
      "Saving fake_images-0157.png\n",
      "Epoch [157/300], Step [200/600], d_loss: 0.0000, g_loss: 1.0000, D(x): 1.00, D(G(z)): 0.00\n",
      "Epoch [157/300], Step [400/600], d_loss: 0.0000, g_loss: 1.0000, D(x): 1.00, D(G(z)): 0.00\n",
      "Epoch [157/300], Step [600/600], d_loss: 0.0000, g_loss: 1.0000, D(x): 1.00, D(G(z)): 0.00\n",
      "Saving fake_images-0158.png\n",
      "Epoch [158/300], Step [200/600], d_loss: 0.0000, g_loss: 1.0000, D(x): 1.00, D(G(z)): 0.00\n",
      "Epoch [158/300], Step [400/600], d_loss: 0.0000, g_loss: 1.0000, D(x): 1.00, D(G(z)): 0.00\n",
      "Epoch [158/300], Step [600/600], d_loss: 0.0000, g_loss: 1.0000, D(x): 1.00, D(G(z)): 0.00\n",
      "Saving fake_images-0159.png\n",
      "Epoch [159/300], Step [200/600], d_loss: 0.0000, g_loss: 1.0000, D(x): 1.00, D(G(z)): 0.00\n",
      "Epoch [159/300], Step [400/600], d_loss: 0.0000, g_loss: 1.0000, D(x): 1.00, D(G(z)): 0.00\n",
      "Epoch [159/300], Step [600/600], d_loss: 0.0000, g_loss: 1.0000, D(x): 1.00, D(G(z)): 0.00\n",
      "Saving fake_images-0160.png\n",
      "Epoch [160/300], Step [200/600], d_loss: 0.0000, g_loss: 1.0000, D(x): 1.00, D(G(z)): 0.00\n",
      "Epoch [160/300], Step [400/600], d_loss: 0.0000, g_loss: 1.0000, D(x): 1.00, D(G(z)): 0.00\n",
      "Epoch [160/300], Step [600/600], d_loss: 0.0000, g_loss: 1.0000, D(x): 1.00, D(G(z)): 0.00\n",
      "Saving fake_images-0161.png\n",
      "Epoch [161/300], Step [200/600], d_loss: 0.0000, g_loss: 1.0000, D(x): 1.00, D(G(z)): 0.00\n",
      "Epoch [161/300], Step [400/600], d_loss: 0.0000, g_loss: 1.0000, D(x): 1.00, D(G(z)): 0.00\n",
      "Epoch [161/300], Step [600/600], d_loss: 0.0000, g_loss: 1.0000, D(x): 1.00, D(G(z)): 0.00\n",
      "Saving fake_images-0162.png\n",
      "Epoch [162/300], Step [200/600], d_loss: 0.0000, g_loss: 1.0000, D(x): 1.00, D(G(z)): 0.00\n",
      "Epoch [162/300], Step [400/600], d_loss: 0.0000, g_loss: 1.0000, D(x): 1.00, D(G(z)): 0.00\n",
      "Epoch [162/300], Step [600/600], d_loss: 0.0000, g_loss: 1.0000, D(x): 1.00, D(G(z)): 0.00\n",
      "Saving fake_images-0163.png\n",
      "Epoch [163/300], Step [200/600], d_loss: 0.0000, g_loss: 1.0000, D(x): 1.00, D(G(z)): 0.00\n",
      "Epoch [163/300], Step [400/600], d_loss: 0.0000, g_loss: 1.0000, D(x): 1.00, D(G(z)): 0.00\n",
      "Epoch [163/300], Step [600/600], d_loss: 0.0000, g_loss: 1.0000, D(x): 1.00, D(G(z)): 0.00\n",
      "Saving fake_images-0164.png\n",
      "Epoch [164/300], Step [200/600], d_loss: 0.0000, g_loss: 1.0000, D(x): 1.00, D(G(z)): 0.00\n",
      "Epoch [164/300], Step [400/600], d_loss: 0.0000, g_loss: 1.0000, D(x): 1.00, D(G(z)): 0.00\n",
      "Epoch [164/300], Step [600/600], d_loss: 0.0000, g_loss: 1.0000, D(x): 1.00, D(G(z)): 0.00\n",
      "Saving fake_images-0165.png\n",
      "Epoch [165/300], Step [200/600], d_loss: 0.0000, g_loss: 1.0000, D(x): 1.00, D(G(z)): 0.00\n",
      "Epoch [165/300], Step [400/600], d_loss: 0.0000, g_loss: 1.0000, D(x): 1.00, D(G(z)): 0.00\n",
      "Epoch [165/300], Step [600/600], d_loss: 0.0000, g_loss: 1.0000, D(x): 1.00, D(G(z)): 0.00\n",
      "Saving fake_images-0166.png\n",
      "Epoch [166/300], Step [200/600], d_loss: 0.0000, g_loss: 1.0000, D(x): 1.00, D(G(z)): 0.00\n",
      "Epoch [166/300], Step [400/600], d_loss: 0.0000, g_loss: 1.0000, D(x): 1.00, D(G(z)): 0.00\n",
      "Epoch [166/300], Step [600/600], d_loss: 0.0000, g_loss: 1.0000, D(x): 1.00, D(G(z)): 0.00\n",
      "Saving fake_images-0167.png\n",
      "Epoch [167/300], Step [200/600], d_loss: 0.0000, g_loss: 1.0000, D(x): 1.00, D(G(z)): 0.00\n",
      "Epoch [167/300], Step [400/600], d_loss: 0.0000, g_loss: 1.0000, D(x): 1.00, D(G(z)): 0.00\n",
      "Epoch [167/300], Step [600/600], d_loss: 0.0000, g_loss: 1.0000, D(x): 1.00, D(G(z)): 0.00\n",
      "Saving fake_images-0168.png\n",
      "Epoch [168/300], Step [200/600], d_loss: 0.0000, g_loss: 1.0000, D(x): 1.00, D(G(z)): 0.00\n",
      "Epoch [168/300], Step [400/600], d_loss: 0.0000, g_loss: 1.0000, D(x): 1.00, D(G(z)): 0.00\n",
      "Epoch [168/300], Step [600/600], d_loss: 0.0000, g_loss: 1.0000, D(x): 1.00, D(G(z)): 0.00\n",
      "Saving fake_images-0169.png\n",
      "Epoch [169/300], Step [200/600], d_loss: 0.0000, g_loss: 1.0000, D(x): 1.00, D(G(z)): 0.00\n",
      "Epoch [169/300], Step [400/600], d_loss: 0.0000, g_loss: 1.0000, D(x): 1.00, D(G(z)): 0.00\n",
      "Epoch [169/300], Step [600/600], d_loss: 0.0000, g_loss: 1.0000, D(x): 1.00, D(G(z)): 0.00\n",
      "Saving fake_images-0170.png\n",
      "Epoch [170/300], Step [200/600], d_loss: 0.0000, g_loss: 1.0000, D(x): 1.00, D(G(z)): 0.00\n",
      "Epoch [170/300], Step [400/600], d_loss: 0.0000, g_loss: 1.0000, D(x): 1.00, D(G(z)): 0.00\n",
      "Epoch [170/300], Step [600/600], d_loss: 0.0000, g_loss: 1.0000, D(x): 1.00, D(G(z)): 0.00\n",
      "Saving fake_images-0171.png\n",
      "Epoch [171/300], Step [200/600], d_loss: 0.0000, g_loss: 1.0000, D(x): 1.00, D(G(z)): 0.00\n",
      "Epoch [171/300], Step [400/600], d_loss: 0.0000, g_loss: 1.0000, D(x): 1.00, D(G(z)): 0.00\n",
      "Epoch [171/300], Step [600/600], d_loss: 0.0000, g_loss: 1.0000, D(x): 1.00, D(G(z)): 0.00\n",
      "Saving fake_images-0172.png\n",
      "Epoch [172/300], Step [200/600], d_loss: 0.0000, g_loss: 1.0000, D(x): 1.00, D(G(z)): 0.00\n",
      "Epoch [172/300], Step [400/600], d_loss: 0.0000, g_loss: 1.0000, D(x): 1.00, D(G(z)): 0.00\n",
      "Epoch [172/300], Step [600/600], d_loss: 0.0000, g_loss: 1.0000, D(x): 1.00, D(G(z)): 0.00\n",
      "Saving fake_images-0173.png\n",
      "Epoch [173/300], Step [200/600], d_loss: 0.0000, g_loss: 1.0000, D(x): 1.00, D(G(z)): 0.00\n",
      "Epoch [173/300], Step [400/600], d_loss: 0.0000, g_loss: 1.0000, D(x): 1.00, D(G(z)): 0.00\n",
      "Epoch [173/300], Step [600/600], d_loss: 0.0000, g_loss: 1.0000, D(x): 1.00, D(G(z)): 0.00\n",
      "Saving fake_images-0174.png\n",
      "Epoch [174/300], Step [200/600], d_loss: 0.0000, g_loss: 1.0000, D(x): 1.00, D(G(z)): 0.00\n",
      "Epoch [174/300], Step [400/600], d_loss: 0.0100, g_loss: 1.0000, D(x): 0.99, D(G(z)): 0.00\n",
      "Epoch [174/300], Step [600/600], d_loss: 0.0000, g_loss: 1.0000, D(x): 1.00, D(G(z)): 0.00\n",
      "Saving fake_images-0175.png\n",
      "Epoch [175/300], Step [200/600], d_loss: 0.0000, g_loss: 1.0000, D(x): 1.00, D(G(z)): 0.00\n",
      "Epoch [175/300], Step [400/600], d_loss: 0.0000, g_loss: 1.0000, D(x): 1.00, D(G(z)): 0.00\n",
      "Epoch [175/300], Step [600/600], d_loss: 0.0000, g_loss: 1.0000, D(x): 1.00, D(G(z)): 0.00\n",
      "Saving fake_images-0176.png\n",
      "Epoch [176/300], Step [200/600], d_loss: 0.0000, g_loss: 1.0000, D(x): 1.00, D(G(z)): 0.00\n",
      "Epoch [176/300], Step [400/600], d_loss: 0.0000, g_loss: 1.0000, D(x): 1.00, D(G(z)): 0.00\n",
      "Epoch [176/300], Step [600/600], d_loss: 0.0000, g_loss: 1.0000, D(x): 1.00, D(G(z)): 0.00\n",
      "Saving fake_images-0177.png\n",
      "Epoch [177/300], Step [200/600], d_loss: 0.0000, g_loss: 1.0000, D(x): 1.00, D(G(z)): 0.00\n",
      "Epoch [177/300], Step [400/600], d_loss: 0.0000, g_loss: 1.0000, D(x): 1.00, D(G(z)): 0.00\n",
      "Epoch [177/300], Step [600/600], d_loss: 0.0000, g_loss: 1.0000, D(x): 1.00, D(G(z)): 0.00\n",
      "Saving fake_images-0178.png\n",
      "Epoch [178/300], Step [200/600], d_loss: 0.0000, g_loss: 1.0000, D(x): 1.00, D(G(z)): 0.00\n",
      "Epoch [178/300], Step [400/600], d_loss: 0.0000, g_loss: 1.0000, D(x): 1.00, D(G(z)): 0.00\n",
      "Epoch [178/300], Step [600/600], d_loss: 0.0000, g_loss: 1.0000, D(x): 1.00, D(G(z)): 0.00\n",
      "Saving fake_images-0179.png\n",
      "Epoch [179/300], Step [200/600], d_loss: 0.0000, g_loss: 1.0000, D(x): 1.00, D(G(z)): 0.00\n",
      "Epoch [179/300], Step [400/600], d_loss: 0.0000, g_loss: 1.0000, D(x): 1.00, D(G(z)): 0.00\n",
      "Epoch [179/300], Step [600/600], d_loss: 0.0000, g_loss: 1.0000, D(x): 1.00, D(G(z)): 0.00\n",
      "Saving fake_images-0180.png\n",
      "Epoch [180/300], Step [200/600], d_loss: 0.0000, g_loss: 1.0000, D(x): 1.00, D(G(z)): 0.00\n",
      "Epoch [180/300], Step [400/600], d_loss: 0.0000, g_loss: 1.0000, D(x): 1.00, D(G(z)): 0.00\n",
      "Epoch [180/300], Step [600/600], d_loss: 0.0000, g_loss: 1.0000, D(x): 1.00, D(G(z)): 0.00\n",
      "Saving fake_images-0181.png\n",
      "Epoch [181/300], Step [200/600], d_loss: 0.0000, g_loss: 1.0000, D(x): 1.00, D(G(z)): 0.00\n",
      "Epoch [181/300], Step [400/600], d_loss: 0.0000, g_loss: 1.0000, D(x): 1.00, D(G(z)): 0.00\n",
      "Epoch [181/300], Step [600/600], d_loss: 0.0000, g_loss: 1.0000, D(x): 1.00, D(G(z)): 0.00\n",
      "Saving fake_images-0182.png\n",
      "Epoch [182/300], Step [200/600], d_loss: 0.0000, g_loss: 1.0000, D(x): 1.00, D(G(z)): 0.00\n",
      "Epoch [182/300], Step [400/600], d_loss: 0.0000, g_loss: 1.0000, D(x): 1.00, D(G(z)): 0.00\n",
      "Epoch [182/300], Step [600/600], d_loss: 0.0000, g_loss: 1.0000, D(x): 1.00, D(G(z)): 0.00\n",
      "Saving fake_images-0183.png\n",
      "Epoch [183/300], Step [200/600], d_loss: 0.0000, g_loss: 1.0000, D(x): 1.00, D(G(z)): 0.00\n",
      "Epoch [183/300], Step [400/600], d_loss: 0.0000, g_loss: 1.0000, D(x): 1.00, D(G(z)): 0.00\n",
      "Epoch [183/300], Step [600/600], d_loss: 0.0000, g_loss: 1.0000, D(x): 1.00, D(G(z)): 0.00\n",
      "Saving fake_images-0184.png\n",
      "Epoch [184/300], Step [200/600], d_loss: 0.0000, g_loss: 1.0000, D(x): 1.00, D(G(z)): 0.00\n",
      "Epoch [184/300], Step [400/600], d_loss: 0.0000, g_loss: 1.0000, D(x): 1.00, D(G(z)): 0.00\n",
      "Epoch [184/300], Step [600/600], d_loss: 0.0000, g_loss: 1.0000, D(x): 1.00, D(G(z)): 0.00\n",
      "Saving fake_images-0185.png\n",
      "Epoch [185/300], Step [200/600], d_loss: 0.0000, g_loss: 1.0000, D(x): 1.00, D(G(z)): 0.00\n",
      "Epoch [185/300], Step [400/600], d_loss: 0.0000, g_loss: 1.0000, D(x): 1.00, D(G(z)): 0.00\n",
      "Epoch [185/300], Step [600/600], d_loss: 0.0000, g_loss: 1.0000, D(x): 1.00, D(G(z)): 0.00\n",
      "Saving fake_images-0186.png\n",
      "Epoch [186/300], Step [200/600], d_loss: 0.0000, g_loss: 1.0000, D(x): 1.00, D(G(z)): 0.00\n",
      "Epoch [186/300], Step [400/600], d_loss: 0.0000, g_loss: 1.0000, D(x): 1.00, D(G(z)): 0.00\n",
      "Epoch [186/300], Step [600/600], d_loss: 0.0000, g_loss: 1.0000, D(x): 1.00, D(G(z)): 0.00\n",
      "Saving fake_images-0187.png\n",
      "Epoch [187/300], Step [200/600], d_loss: 0.0000, g_loss: 1.0000, D(x): 1.00, D(G(z)): 0.00\n",
      "Epoch [187/300], Step [400/600], d_loss: 0.0000, g_loss: 1.0000, D(x): 1.00, D(G(z)): 0.00\n",
      "Epoch [187/300], Step [600/600], d_loss: 0.0000, g_loss: 1.0000, D(x): 1.00, D(G(z)): 0.00\n",
      "Saving fake_images-0188.png\n",
      "Epoch [188/300], Step [200/600], d_loss: 0.0000, g_loss: 1.0000, D(x): 1.00, D(G(z)): 0.00\n",
      "Epoch [188/300], Step [400/600], d_loss: 0.0000, g_loss: 1.0000, D(x): 1.00, D(G(z)): 0.00\n",
      "Epoch [188/300], Step [600/600], d_loss: 0.0000, g_loss: 1.0000, D(x): 1.00, D(G(z)): 0.00\n",
      "Saving fake_images-0189.png\n",
      "Epoch [189/300], Step [200/600], d_loss: 0.0000, g_loss: 1.0000, D(x): 1.00, D(G(z)): 0.00\n",
      "Epoch [189/300], Step [400/600], d_loss: 0.0000, g_loss: 1.0000, D(x): 1.00, D(G(z)): 0.00\n",
      "Epoch [189/300], Step [600/600], d_loss: 0.0000, g_loss: 1.0000, D(x): 1.00, D(G(z)): 0.00\n",
      "Saving fake_images-0190.png\n",
      "Epoch [190/300], Step [200/600], d_loss: 0.0000, g_loss: 1.0000, D(x): 1.00, D(G(z)): 0.00\n",
      "Epoch [190/300], Step [400/600], d_loss: 0.0000, g_loss: 1.0000, D(x): 1.00, D(G(z)): 0.00\n",
      "Epoch [190/300], Step [600/600], d_loss: 0.0000, g_loss: 1.0000, D(x): 1.00, D(G(z)): 0.00\n",
      "Saving fake_images-0191.png\n",
      "Epoch [191/300], Step [200/600], d_loss: 0.0000, g_loss: 1.0000, D(x): 1.00, D(G(z)): 0.00\n",
      "Epoch [191/300], Step [400/600], d_loss: 0.0000, g_loss: 1.0000, D(x): 1.00, D(G(z)): 0.00\n",
      "Epoch [191/300], Step [600/600], d_loss: 0.0000, g_loss: 1.0000, D(x): 1.00, D(G(z)): 0.00\n",
      "Saving fake_images-0192.png\n",
      "Epoch [192/300], Step [200/600], d_loss: 0.0000, g_loss: 1.0000, D(x): 1.00, D(G(z)): 0.00\n",
      "Epoch [192/300], Step [400/600], d_loss: 0.0000, g_loss: 1.0000, D(x): 1.00, D(G(z)): 0.00\n",
      "Epoch [192/300], Step [600/600], d_loss: 0.0000, g_loss: 1.0000, D(x): 1.00, D(G(z)): 0.00\n",
      "Saving fake_images-0193.png\n",
      "Epoch [193/300], Step [200/600], d_loss: 0.0000, g_loss: 1.0000, D(x): 1.00, D(G(z)): 0.00\n",
      "Epoch [193/300], Step [400/600], d_loss: 0.0000, g_loss: 1.0000, D(x): 1.00, D(G(z)): 0.00\n",
      "Epoch [193/300], Step [600/600], d_loss: 0.0000, g_loss: 1.0000, D(x): 1.00, D(G(z)): 0.00\n",
      "Saving fake_images-0194.png\n",
      "Epoch [194/300], Step [200/600], d_loss: 0.0000, g_loss: 1.0000, D(x): 1.00, D(G(z)): 0.00\n",
      "Epoch [194/300], Step [400/600], d_loss: 0.0000, g_loss: 1.0000, D(x): 1.00, D(G(z)): 0.00\n",
      "Epoch [194/300], Step [600/600], d_loss: 0.0000, g_loss: 1.0000, D(x): 1.00, D(G(z)): 0.00\n",
      "Saving fake_images-0195.png\n",
      "Epoch [195/300], Step [200/600], d_loss: 0.0000, g_loss: 1.0000, D(x): 1.00, D(G(z)): 0.00\n",
      "Epoch [195/300], Step [400/600], d_loss: 0.0000, g_loss: 1.0000, D(x): 1.00, D(G(z)): 0.00\n",
      "Epoch [195/300], Step [600/600], d_loss: 0.0000, g_loss: 1.0000, D(x): 1.00, D(G(z)): 0.00\n",
      "Saving fake_images-0196.png\n",
      "Epoch [196/300], Step [200/600], d_loss: 0.0000, g_loss: 1.0000, D(x): 1.00, D(G(z)): 0.00\n",
      "Epoch [196/300], Step [400/600], d_loss: 0.0000, g_loss: 1.0000, D(x): 1.00, D(G(z)): 0.00\n",
      "Epoch [196/300], Step [600/600], d_loss: 0.0000, g_loss: 1.0000, D(x): 1.00, D(G(z)): 0.00\n",
      "Saving fake_images-0197.png\n",
      "Epoch [197/300], Step [200/600], d_loss: 0.0000, g_loss: 1.0000, D(x): 1.00, D(G(z)): 0.00\n",
      "Epoch [197/300], Step [400/600], d_loss: 0.0000, g_loss: 1.0000, D(x): 1.00, D(G(z)): 0.00\n",
      "Epoch [197/300], Step [600/600], d_loss: 0.0000, g_loss: 1.0000, D(x): 1.00, D(G(z)): 0.00\n",
      "Saving fake_images-0198.png\n",
      "Epoch [198/300], Step [200/600], d_loss: 0.0000, g_loss: 1.0000, D(x): 1.00, D(G(z)): 0.00\n",
      "Epoch [198/300], Step [400/600], d_loss: 0.0000, g_loss: 1.0000, D(x): 1.00, D(G(z)): 0.00\n",
      "Epoch [198/300], Step [600/600], d_loss: 0.0000, g_loss: 1.0000, D(x): 1.00, D(G(z)): 0.00\n",
      "Saving fake_images-0199.png\n",
      "Epoch [199/300], Step [200/600], d_loss: 0.0000, g_loss: 1.0000, D(x): 1.00, D(G(z)): 0.00\n",
      "Epoch [199/300], Step [400/600], d_loss: 0.0000, g_loss: 1.0000, D(x): 1.00, D(G(z)): 0.00\n",
      "Epoch [199/300], Step [600/600], d_loss: 0.0000, g_loss: 1.0000, D(x): 1.00, D(G(z)): 0.00\n",
      "Saving fake_images-0200.png\n",
      "Epoch [200/300], Step [200/600], d_loss: 0.0000, g_loss: 1.0000, D(x): 1.00, D(G(z)): 0.00\n",
      "Epoch [200/300], Step [400/600], d_loss: 0.0000, g_loss: 1.0000, D(x): 1.00, D(G(z)): 0.00\n",
      "Epoch [200/300], Step [600/600], d_loss: 0.0000, g_loss: 1.0000, D(x): 1.00, D(G(z)): 0.00\n",
      "Saving fake_images-0201.png\n",
      "Epoch [201/300], Step [200/600], d_loss: 0.0000, g_loss: 1.0000, D(x): 1.00, D(G(z)): 0.00\n",
      "Epoch [201/300], Step [400/600], d_loss: 0.0000, g_loss: 1.0000, D(x): 1.00, D(G(z)): 0.00\n",
      "Epoch [201/300], Step [600/600], d_loss: 0.0000, g_loss: 1.0000, D(x): 1.00, D(G(z)): 0.00\n",
      "Saving fake_images-0202.png\n",
      "Epoch [202/300], Step [200/600], d_loss: 0.0000, g_loss: 1.0000, D(x): 1.00, D(G(z)): 0.00\n",
      "Epoch [202/300], Step [400/600], d_loss: 0.0000, g_loss: 1.0000, D(x): 1.00, D(G(z)): 0.00\n",
      "Epoch [202/300], Step [600/600], d_loss: 0.0000, g_loss: 1.0000, D(x): 1.00, D(G(z)): 0.00\n",
      "Saving fake_images-0203.png\n",
      "Epoch [203/300], Step [200/600], d_loss: 0.0000, g_loss: 1.0000, D(x): 1.00, D(G(z)): 0.00\n",
      "Epoch [203/300], Step [400/600], d_loss: 0.0000, g_loss: 1.0000, D(x): 1.00, D(G(z)): 0.00\n",
      "Epoch [203/300], Step [600/600], d_loss: 0.0000, g_loss: 1.0000, D(x): 1.00, D(G(z)): 0.00\n",
      "Saving fake_images-0204.png\n",
      "Epoch [204/300], Step [200/600], d_loss: 0.0000, g_loss: 1.0000, D(x): 1.00, D(G(z)): 0.00\n",
      "Epoch [204/300], Step [400/600], d_loss: 0.0000, g_loss: 1.0000, D(x): 1.00, D(G(z)): 0.00\n",
      "Epoch [204/300], Step [600/600], d_loss: 0.0000, g_loss: 1.0000, D(x): 1.00, D(G(z)): 0.00\n",
      "Saving fake_images-0205.png\n",
      "Epoch [205/300], Step [200/600], d_loss: 0.0000, g_loss: 1.0000, D(x): 1.00, D(G(z)): 0.00\n",
      "Epoch [205/300], Step [400/600], d_loss: 0.0000, g_loss: 1.0000, D(x): 1.00, D(G(z)): 0.00\n",
      "Epoch [205/300], Step [600/600], d_loss: 0.0000, g_loss: 1.0000, D(x): 1.00, D(G(z)): 0.00\n",
      "Saving fake_images-0206.png\n",
      "Epoch [206/300], Step [200/600], d_loss: 0.0000, g_loss: 1.0000, D(x): 1.00, D(G(z)): 0.00\n"
     ]
    }
   ],
   "source": [
    "%%time\n",
    "\n",
    "num_epochs = 300\n",
    "total_step = len(data_loader)\n",
    "d_losses, g_losses, real_scores, fake_scores = [], [], [], []\n",
    "\n",
    "for epoch in range(num_epochs):\n",
    "    for i, (images, _) in enumerate(data_loader):\n",
    "        # Load a batch & transform to vectors\n",
    "        images = images.reshape(batch_size, -1).to(device)\n",
    "\n",
    "        # Train the discriminator and generator\n",
    "        d_loss, real_score, fake_score = train_discriminator(images)\n",
    "        g_loss, fake_images = train_generator()\n",
    "\n",
    "        # Inspect the losses\n",
    "        if (i+1) % 200 == 0:\n",
    "            d_losses.append(d_loss.item())\n",
    "            g_losses.append(g_loss.item())\n",
    "            real_scores.append(real_score.mean().item())\n",
    "            fake_scores.append(fake_score.mean().item())\n",
    "            print('Epoch [{}/{}], Step [{}/{}], d_loss: {:.4f}, g_loss: {:.4f}, D(x): {:.2f}, D(G(z)): {:.2f}'\n",
    "                  .format(epoch, num_epochs, i+1, total_step, d_loss.item(), g_loss.item(),\n",
    "                          real_score.mean().item(), fake_score.mean().item()))\n",
    "\n",
    "    # Sample and save images\n",
    "    save_fake_images(epoch+1)"
   ]
  },
  {
   "cell_type": "markdown",
   "metadata": {
    "id": "IJCw0YILsNG1"
   },
   "source": [
    "Now that we have trained the models, we can save checkpoints."
   ]
  },
  {
   "cell_type": "markdown",
   "metadata": {
    "id": "us9TzGmguIXJ"
   },
   "source": [
    "Step3. Display at least 3 samples produced from your GAN model."
   ]
  },
  {
   "cell_type": "code",
   "execution_count": null,
   "metadata": {
    "id": "hT4NmjuQIl95"
   },
   "outputs": [],
   "source": [
    "Image(os.path.join(sample_dir, 'fake_images-0050.png'))"
   ]
  },
  {
   "cell_type": "code",
   "execution_count": null,
   "metadata": {
    "id": "qJgSbnuRu6js"
   },
   "outputs": [],
   "source": [
    "Image(os.path.join(sample_dir, 'fake_images-0150.png'))"
   ]
  },
  {
   "cell_type": "code",
   "execution_count": null,
   "metadata": {
    "id": "87gfw_h2u-bl"
   },
   "outputs": [],
   "source": [
    "Image(os.path.join(sample_dir, 'fake_images-0250.png'))"
   ]
  },
  {
   "cell_type": "code",
   "execution_count": null,
   "metadata": {
    "id": "BPc3zaspvFUq"
   },
   "outputs": [],
   "source": [
    "Image(os.path.join(sample_dir, 'fake_images-0300.png'))"
   ]
  },
  {
   "cell_type": "markdown",
   "metadata": {
    "id": "T4sNdFIHvNTL"
   },
   "source": [
    "It took 2h 33min 19s  and system crashes"
   ]
  },
  {
   "cell_type": "code",
   "execution_count": null,
   "metadata": {
    "id": "SMPMrQkJvKha"
   },
   "outputs": [],
   "source": [
    "# Save the model checkpoints\n",
    "torch.save(G.state_dict(), 'G.ckpt')\n",
    "torch.save(D.state_dict(), 'D.ckpt')"
   ]
  },
  {
   "cell_type": "markdown",
   "metadata": {
    "id": "QlUCXJJDvox8"
   },
   "source": [
    "We can visualize the training process by combining the sample images generated\n",
    "\n",
    "---\n",
    "\n",
    "after each epoch into a video using OpenCV."
   ]
  },
  {
   "cell_type": "code",
   "execution_count": null,
   "metadata": {
    "id": "mfO57Klyvoct"
   },
   "outputs": [],
   "source": [
    "import cv2\n",
    "import os\n",
    "from IPython.display import FileLink\n",
    "\n",
    "vid_fname = 'gans_training.avi'\n",
    "\n",
    "files = [os.path.join(sample_dir, f) for f in os.listdir(sample_dir) if 'fake_images' in f]\n",
    "files.sort()\n",
    "\n",
    "out = cv2.VideoWriter(vid_fname,cv2.VideoWriter_fourcc(*'MP4V'), 8, (302,302))\n",
    "[out.write(cv2.imread(fname)) for fname in files]\n",
    "out.release()\n",
    "FileLink('gans_training.avi')"
   ]
  },
  {
   "cell_type": "markdown",
   "metadata": {
    "id": "ko84-09avvBg"
   },
   "source": [
    "You can view the animated training video here: https://www.youtube.com/watch?v=R7HTX79JlBg\n",
    "\n",
    "We can also visualize how the loss changes over time. Visualizing losses is quite useful for debugging the training process. For GANs, we expect the generator's loss to reduce over time, without the discriminator's loss getting too high."
   ]
  },
  {
   "cell_type": "code",
   "execution_count": null,
   "metadata": {
    "id": "kNe9DT6HvhYi"
   },
   "outputs": [],
   "source": [
    "plt.plot(d_losses, '-')\n",
    "plt.plot(g_losses, '-')\n",
    "plt.xlabel('epoch')\n",
    "plt.ylabel('loss')\n",
    "plt.legend(['Discriminator', 'Generator'])\n",
    "plt.title('Losses');"
   ]
  },
  {
   "cell_type": "code",
   "execution_count": null,
   "metadata": {
    "id": "dcDpvy05v1Hp"
   },
   "outputs": [],
   "source": [
    "plt.plot(real_scores, '-')\n",
    "plt.plot(fake_scores, '-')\n",
    "plt.xlabel('epoch')\n",
    "plt.ylabel('score')\n",
    "plt.legend(['Real Score', 'Fake score'])\n",
    "plt.title('Scores');"
   ]
  },
  {
   "cell_type": "markdown",
   "metadata": {
    "id": "ngMiQS55wJJx"
   },
   "source": [
    "#Step4. Save the model weights in the folder to be used later.\n",
    "\n"
   ]
  },
  {
   "cell_type": "code",
   "execution_count": null,
   "metadata": {
    "id": "sCB3YhVg1Xtq"
   },
   "outputs": [],
   "source": [
    "torch.save(G.state_dict(), 'generator_weights.pth')\n",
    "torch.save(D.state_dict(), 'discriminator_weights.pth')"
   ]
  },
  {
   "cell_type": "markdown",
   "metadata": {
    "id": "pMRfVDwswFTG"
   },
   "source": [
    "#Step5. Load the model using the saved weights.\n",
    "\n"
   ]
  },
  {
   "cell_type": "code",
   "execution_count": null,
   "metadata": {
    "id": "_i3WxSj6v_1J"
   },
   "outputs": [],
   "source": [
    "G.load_state_dict(torch.load('generator_weights.pth'))\n",
    "D.load_state_dict(torch.load('discriminator_weights.pth'))"
   ]
  },
  {
   "cell_type": "code",
   "execution_count": null,
   "metadata": {
    "id": "1aTmGXqk2TyM"
   },
   "outputs": [],
   "source": [
    "g_optimizer = torch.optim.Adam(G.parameters(), lr=0.0002)\n",
    "d_optimizer = torch.optim.Adam(D.parameters(), lr=0.0002)"
   ]
  },
  {
   "cell_type": "code",
   "execution_count": null,
   "metadata": {
    "id": "RaxxgJwP-JWJ"
   },
   "outputs": [],
   "source": [
    "num_epochs = 50\n",
    "for epoch in range(num_epochs):\n",
    "    for i, (images, _) in enumerate(data_loader):\n",
    "        images = images.reshape(batch_size, -1).to(device)\n",
    "\n",
    "        d_loss, real_score, fake_score = train_discriminator(images)\n",
    "        g_loss, fake_images = train_generator()\n",
    "\n",
    "        if (i+1) % 200 == 0:\n",
    "            print('Epoch [{}/{}], Step [{}/{}], d_loss: {:.4f}, g_loss: {:.4f}, D(x): {:.2f}, D(G(z)): {:.2f}'\n",
    "                  .format(epoch, num_epochs, i+1, total_step, d_loss.item(), g_loss.item(),\n",
    "                          real_score.mean().item(), fake_score.mean().item()))\n",
    "\n",
    "    save_fake_images(epoch+1)"
   ]
  },
  {
   "cell_type": "markdown",
   "metadata": {
    "id": "FqdoW5kTC-_c"
   },
   "source": [
    "# Step 7: Save the model weights without using checkpoints.\n"
   ]
  },
  {
   "cell_type": "code",
   "execution_count": null,
   "metadata": {
    "id": "7LzcIsHf-YCH"
   },
   "outputs": [],
   "source": [
    "torch.save(G.state_dict(), 'generator_weights_no_checkpoint.pth')\n",
    "torch.save(D.state_dict(), 'discriminator_weights_no_checkpoint.pth')\n"
   ]
  },
  {
   "cell_type": "markdown",
   "metadata": {
    "id": "Sd80oT2HDDm_"
   },
   "source": [
    "#Step 8: Load the model weights without using checkpoints.\n"
   ]
  },
  {
   "cell_type": "code",
   "execution_count": null,
   "metadata": {
    "id": "2qo269-Z-RlX"
   },
   "outputs": [],
   "source": [
    "G_no_checkpoint = nn.Sequential(\n",
    "     nn.Linear(latent_size, hidden_size),\n",
    "    nn.ReLU(),\n",
    "    nn.Linear(hidden_size, hidden_size),\n",
    "    nn.ReLU(),\n",
    "    nn.Linear(hidden_size, hidden_size),  # Additional layer\n",
    "    nn.ReLU(),  # Activation function\n",
    "    nn.Linear(hidden_size, hidden_size),  # Additional layer\n",
    "    nn.ReLU(),  # Activation function\n",
    "    nn.Linear(hidden_size, image_size),\n",
    "    nn.Tanh()\n",
    "\n",
    ")\n",
    "\n",
    "D_no_checkpoint = nn.Sequential(\n",
    "    nn.Linear(image_size, hidden_size),\n",
    "    nn.LeakyReLU(0.2),\n",
    "    nn.Linear(hidden_size, hidden_size),\n",
    "    nn.LeakyReLU(0.2),\n",
    "    nn.Linear(hidden_size, hidden_size),  # Additional layer\n",
    "    nn.LeakyReLU(0.2),  # Activation function\n",
    "    nn.Linear(hidden_size, hidden_size),  # Additional layer\n",
    "    nn.LeakyReLU(0.2),  # Activation function\n",
    "    nn.Linear(hidden_size, 1),\n",
    "    nn.Sigmoid()\n",
    ")\n",
    "\n",
    "G_no_checkpoint.load_state_dict(torch.load('generator_weights_no_checkpoint.pth'))\n",
    "D_no_checkpoint.load_state_dict(torch.load('discriminator_weights_no_checkpoint.pth'))"
   ]
  },
  {
   "cell_type": "code",
   "execution_count": null,
   "metadata": {
    "id": "e1fjUPUzIRbK"
   },
   "outputs": [],
   "source": [
    "Image(os.path.join(sample_dir, 'fake_images-0001.png'))"
   ]
  },
  {
   "cell_type": "code",
   "execution_count": null,
   "metadata": {
    "id": "FUsnUGA3IYRl"
   },
   "outputs": [],
   "source": [
    "Image(os.path.join(sample_dir, 'fake_images-0015.png'))"
   ]
  },
  {
   "cell_type": "code",
   "execution_count": null,
   "metadata": {
    "id": "50o4UaHkIdot"
   },
   "outputs": [],
   "source": [
    "Image(os.path.join(sample_dir, 'fake_images-0030.png'))"
   ]
  },
  {
   "cell_type": "code",
   "execution_count": null,
   "metadata": {
    "id": "7U4RMyhjIhM8"
   },
   "outputs": [],
   "source": [
    "Image(os.path.join(sample_dir, 'fake_images-0050.png'))"
   ]
  },
  {
   "cell_type": "markdown",
   "metadata": {
    "id": "6Mwcm5JUIpIk"
   },
   "source": [
    "The output the images is improved and is close to the original image"
   ]
  },
  {
   "cell_type": "code",
   "execution_count": null,
   "metadata": {
    "id": "lYqE7L6sInMh"
   },
   "outputs": [],
   "source": [
    "Image(os.path.join(sample_dir, 'real_images.png'))"
   ]
  }
 ],
 "metadata": {
  "accelerator": "GPU",
  "colab": {
   "gpuType": "T4",
   "provenance": []
  },
  "kernelspec": {
   "display_name": "Python 3 (ipykernel)",
   "language": "python",
   "name": "python3"
  },
  "language_info": {
   "codemirror_mode": {
    "name": "ipython",
    "version": 3
   },
   "file_extension": ".py",
   "mimetype": "text/x-python",
   "name": "python",
   "nbconvert_exporter": "python",
   "pygments_lexer": "ipython3",
   "version": "3.11.5"
  }
 },
 "nbformat": 4,
 "nbformat_minor": 4
}
